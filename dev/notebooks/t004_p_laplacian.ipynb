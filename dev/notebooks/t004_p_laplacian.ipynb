{
 "cells": [
  {
   "cell_type": "markdown",
   "source": [
    "# Tutorial 4: p-Laplacian"
   ],
   "metadata": {}
  },
  {
   "cell_type": "markdown",
   "source": [
    "In this tutorial, we will learn\n",
    "   - How to solve a simple nonlinear PDE in Gridap\n",
    "   - How to define the weak residual and its Jacobian\n",
    "   - How to setup and use a nonlinear solver\n",
    "   - How to define new boundaries from a given discrete model\n",
    "\n",
    "## Problem statement\n",
    "\n",
    "The goal of this tutorial is to solve a nonlinear PDE in Gridap. For the sake of simplicity, we consider the $p$-Laplacian equation as the model problem. Specifically, the PDE  we want to solve is: find the scalar-field $u$ such that\n",
    "\n",
    "$$\n",
    "\\left\\lbrace\n",
    "\\begin{aligned}\n",
    "-\\nabla \\cdot \\left( |\\nabla u|^{p-2} \\ \\nabla u \\right) = f\\ &\\text{in}\\ \\Omega,\\\\\n",
    "u = 0 \\ &\\text{on} \\ \\Gamma_0,\\\\\n",
    "u = g \\ &\\text{on} \\ \\Gamma_g,\\\\\n",
    "\\left( |\\nabla u|^{p-2}\\ \\nabla u \\right)\\cdot n = 0 \\ &\\text{on} \\ \\Gamma_{\\rm N},\n",
    "\\end{aligned}\n",
    "\\right.\n",
    "$$\n",
    "with $p>2$.\n",
    "The computational domain $\\Omega$ is the one depicted in next figure, which is the same as in the first tutorial. However, we slightly change the boundary conditions here. We impose homogeneous Dirichlet and homogeneous Neumann boundary conditions on $\\Gamma_0$ and $\\Gamma_{\\rm N}$  respectively, and in-homogeneous Dirichlet conditions on $\\Gamma_g$. The Dirichlet boundaries $\\Gamma_0$ and $\\Gamma_g$ are defined as the closure of the green and blue surfaces in next figure respectively, whereas the Neumann boundary is $\\Gamma_{\\rm N}\\doteq\\partial\\Omega \\setminus (\\Gamma_0\\cup\\Gamma_g)$. In this example, we consider the values $p=3$, $f=1$, and $g=2$.\n",
    "\n",
    "![](../assets/p_laplacian/model.png)\n",
    "\n",
    "## Numerical scheme\n",
    "\n",
    "We discretize the problem with conforming Lagrangian FE spaces. For this formulation, the nonlinear weak form reads: find $u\\in U_g$ such that $[r(u)](v) = 0$ for all $v\\in V_0$. As in previous tutorials, the space $U_g$ is the set of functions in $H^1(\\Omega)$ that fulfill the Dirichlet boundary conditions, whereas $V_0$ is composed by functions in $H^1(\\Omega)$ that vanish at the Dirichlet boundary. The weak residual $r(u)$ evaluated at a function  $u\\in U_g$ is the linear form defined as\n",
    "\n",
    "$$\n",
    "[r(u)](v) \\doteq \\int_\\Omega \\nabla v \\cdot \\left( |\\nabla u|^{p-2}\\ \\nabla u \\right) \\ {\\rm d}\\Omega - \\int_\\Omega v\\ f \\ {\\rm d}\\Omega.\n",
    "$$\n",
    "\n",
    "In order to solve this nonlinear weak equation, we consider a Newton-Raphson method, which is associated with a linearization of the problem in an arbitrary direction $\\delta u\\in V_0$, namely $[r(u+\\delta u)](v)\\approx [r(u)](v) + [j(u)](\\delta u,v)$. In previous formula,  $j(u)$ is the Jacobian evaluated at $u\\in U_g$, which is the bilinear form\n",
    "\n",
    "$$\n",
    "[j(u)](\\delta u,v) = \\int_\\Omega \\nabla v \\cdot \\left( |\\nabla u|^{p-2}\\ \\nabla \\delta u \\right) \\ {\\rm d}\\Omega + (p-2) \\int_\\Omega \\nabla v \\cdot \\left(  |\\nabla u|^{p-4} (\\nabla u \\cdot \\nabla \\delta u) \\nabla u  \\right) \\ {\\rm d}\\Omega.\n",
    "$$\n",
    "\n",
    "Note that the solution of this nonlinear PDE with a Newton-Raphson method, will require to discretize both the residual $r$ and the Jacobian $j$. In Gridap, this is done by following an approach similar to the one already shown in previous tutorials for discretizing the bilinear and linear forms associated with a linear FE problem. The specific details are discussed now.\n",
    "\n",
    "## Discrete model\n",
    "\n",
    "As in previous tutorials, the first step to solve the PDE is to load a discretization of the computational domain. In this case, we load the model from the same file as in the first tutorial"
   ],
   "metadata": {}
  },
  {
   "outputs": [],
   "cell_type": "code",
   "source": [
    "using Gridap\n",
    "model = DiscreteModelFromFile(\"../models/model.json\")"
   ],
   "metadata": {},
   "execution_count": null
  },
  {
   "cell_type": "markdown",
   "source": [
    "As stated before, we want to impose Dirichlet boundary conditions on $\\Gamma_0$ and $\\Gamma_g$,  but none of these boundaries is identified in the model. E.g., you can easily see by writing the model in vtk format"
   ],
   "metadata": {}
  },
  {
   "outputs": [],
   "cell_type": "code",
   "source": [
    "mkpath(\"output_path\")\n",
    "writevtk(model,\"output_path/model\")"
   ],
   "metadata": {},
   "execution_count": null
  },
  {
   "cell_type": "markdown",
   "source": [
    "and by opening the file `\"model_0\"` in Paraview that the boundary identified as `\"sides\"` only includes the vertices in the interior of $\\Gamma_0$, but here we want to impose Dirichlet boundary conditions in the closure of $\\Gamma_0$, i.e., also on the vertices on the contour of $\\Gamma_0$. Fortunately, the objects on the contour of $\\Gamma_0$ are identified  with the tag `\"sides_c\"` (see next figure). Thus, the Dirichlet boundary $\\Gamma_0$ can be built as the union of the objects identified as `\"sides\"` and `\"sides_c\"`.\n",
    "\n",
    "![](../assets/p_laplacian/sides_c.png)\n",
    "\n",
    "Gridap provides a convenient way to create new object identifiers (referred to as \"tags\") from existing ones. First, we need to extract from the model, the object that holds the information about the boundary identifiers (referred to as `FaceLabeling`):"
   ],
   "metadata": {}
  },
  {
   "outputs": [],
   "cell_type": "code",
   "source": [
    "labels = get_face_labeling(model)"
   ],
   "metadata": {},
   "execution_count": null
  },
  {
   "cell_type": "markdown",
   "source": [
    "Then, we can add new identifiers (aka \"tags\") to it. In the next line, we create a new tag called `\"diri0\"` as the union of the objects identified as `\"sides\"` and `\"sides_c\"`, which is precisely what we need to represent the closure of the Dirichlet boundary $\\Gamma_0$."
   ],
   "metadata": {}
  },
  {
   "outputs": [],
   "cell_type": "code",
   "source": [
    "add_tag_from_tags!(labels,\"diri0\",[\"sides\", \"sides_c\"])"
   ],
   "metadata": {},
   "execution_count": null
  },
  {
   "cell_type": "markdown",
   "source": [
    "We follow the same approach to build a new identifier for the closure of the Dirichlet boundary $\\Gamma_g$. In this case, the boundary is expressed as the union of the objects identified with the tags `\"circle\"`, `\"circle_c\"`, `\"triangle\"`, `\"triangle_c\"`, `\"square\"`, `\"square_c\"`. Thus, we create a new tag for  $\\Gamma_g$, called `\"dirig\"` simply as follows:"
   ],
   "metadata": {}
  },
  {
   "outputs": [],
   "cell_type": "code",
   "source": [
    "add_tag_from_tags!(labels,\"dirig\",\n",
    "  [\"circle\",\"circle_c\", \"triangle\", \"triangle_c\", \"square\", \"square_c\"])"
   ],
   "metadata": {},
   "execution_count": null
  },
  {
   "cell_type": "markdown",
   "source": [
    "## FE Space\n",
    "\n",
    "Now, we can build the FE space by using the newly defined boundary tags."
   ],
   "metadata": {}
  },
  {
   "outputs": [],
   "cell_type": "code",
   "source": [
    "reffe = ReferenceFE(lagrangian,Float64,1)\n",
    "V0 = TestFESpace(model,reffe,conformity=:H1,labels=labels,dirichlet_tags=[\"diri0\", \"dirig\"])"
   ],
   "metadata": {},
   "execution_count": null
  },
  {
   "cell_type": "markdown",
   "source": [
    "The construction of this space is essentially the same as in the first tutorial (we build a continuous scalar-valued Lagrangian interpolation of first order). However, we also pass here the `labels` object (that contains the newly created boundary tags). From this FE space, we define the trial FE spaces"
   ],
   "metadata": {}
  },
  {
   "outputs": [],
   "cell_type": "code",
   "source": [
    "g = 1\n",
    "Ug = TrialFESpace(V0,[0,g])"
   ],
   "metadata": {},
   "execution_count": null
  },
  {
   "cell_type": "markdown",
   "source": [
    "## Nonlinear FE problem\n",
    "\n",
    "At this point, we are ready to build the nonlinear FE problem. To this end, we need to define the weak residual and also its corresponding Jacobian. This is done following a similar procedure to the one considered in previous tutorials to define the bilinear and linear forms associated with linear FE problems. We first need to define the usual objects for numerical integration:"
   ],
   "metadata": {}
  },
  {
   "outputs": [],
   "cell_type": "code",
   "source": [
    "degree=2\n",
    "Ω = Triangulation(model)\n",
    "dΩ = Measure(Ω,degree)"
   ],
   "metadata": {},
   "execution_count": null
  },
  {
   "cell_type": "markdown",
   "source": [
    "On the one hand, the weak residual is built as follows"
   ],
   "metadata": {}
  },
  {
   "outputs": [],
   "cell_type": "code",
   "source": [
    "using LinearAlgebra: norm\n",
    "const p = 3\n",
    "flux(∇u) = norm(∇u)^(p-2) * ∇u\n",
    "f(x) = 1\n",
    "res(u,v) = ∫( ∇(v)⊙(flux∘∇(u)) - v*f )*dΩ"
   ],
   "metadata": {},
   "execution_count": null
  },
  {
   "cell_type": "markdown",
   "source": [
    "Function `res` is the one representing the integrand of the weak residual $[r(u)](v)$. The first argument of function `res` stands for the function $u\\in U_g$, where the residual is evaluated, and the second argument stands for a generic test function $v\\in V_0$.\n",
    "\n",
    "On the other hand,  we (optionally) implement a function `jac` representing the Jacobian."
   ],
   "metadata": {}
  },
  {
   "outputs": [],
   "cell_type": "code",
   "source": [
    "dflux(∇du,∇u) = (p-2)*norm(∇u)^(p-4)*(∇u⊙∇du)*∇u+norm(∇u)^(p-2)*∇du\n",
    "jac(u,du,v) = ∫( ∇(v)⊙(dflux∘(∇(du),∇(u))) )*dΩ"
   ],
   "metadata": {},
   "execution_count": null
  },
  {
   "cell_type": "markdown",
   "source": [
    "The first argument of function `jac` stands for function $u\\in U_g$, where the Jacobian is evaluated. The second argument is a test function $v\\in V_0$, and the third argument represents an arbitrary direction $\\delta u \\in V_0$.\n",
    "\n",
    "We finally construct the nonlinear FE problem"
   ],
   "metadata": {}
  },
  {
   "outputs": [],
   "cell_type": "code",
   "source": [
    "op = FEOperator(res,jac,Ug,V0)"
   ],
   "metadata": {},
   "execution_count": null
  },
  {
   "cell_type": "markdown",
   "source": [
    "Here, we have constructed an instance of `FEOperator`, which is the type that represents a general nonlinear FE problem in Gridap. The constructor takes the functions representing the weak residual and Jacobian, and the test and trial spaces. If only the function for the residual is provided, the Jacobian is computed internally with automatic differentiation."
   ],
   "metadata": {}
  },
  {
   "cell_type": "markdown",
   "source": [
    "## Nonlinear solver phase\n",
    "\n",
    "We have already built the nonlinear FE problem. Now, the remaining step is to solve it. In Gridap, nonlinear (and also linear) FE problems can be solved with instances of the type `FESolver`.\n",
    "\n",
    "We construct an instance of `FESolver` as follows:"
   ],
   "metadata": {}
  },
  {
   "outputs": [],
   "cell_type": "code",
   "source": [
    "using LineSearches: BackTracking\n",
    "nls = NLSolver(\n",
    "  show_trace=true, method=:newton, linesearch=BackTracking())\n",
    "solver = FESolver(nls)"
   ],
   "metadata": {},
   "execution_count": null
  },
  {
   "cell_type": "markdown",
   "source": [
    "Note that the `NLSolver` function used above internally calls the `nlsolve` function of the [NLsolve](https://github.com/JuliaNLSolvers/NLsolve.jl) package with the provided key-word arguments. Thus, one can use any of the nonlinear methods available via the function `nlsolve` to solve the nonlinear FE problem. Here, we have selected a Newton-Raphson method with a back-tracking line-search from the [LineSearches](https://github.com/JuliaNLSolvers/LineSearches.jl) package.\n",
    "\n",
    "We are finally in place to solve the nonlinear FE problem. The initial guess is a `FEFunction`, which we build from a vector of random (free) nodal values:"
   ],
   "metadata": {}
  },
  {
   "outputs": [],
   "cell_type": "code",
   "source": [
    "import Random\n",
    "Random.seed!(1234)\n",
    "x = rand(Float64,num_free_dofs(Ug))\n",
    "uh0 = FEFunction(Ug,x)\n",
    "uh, = solve!(uh0,solver,op)"
   ],
   "metadata": {},
   "execution_count": null
  },
  {
   "cell_type": "markdown",
   "source": [
    "We finish this tutorial by writing the computed solution for visualization (see next figure)."
   ],
   "metadata": {}
  },
  {
   "outputs": [],
   "cell_type": "code",
   "source": [
    "writevtk(Ω,\"output_path/results\",cellfields=[\"uh\"=>uh])"
   ],
   "metadata": {},
   "execution_count": null
  },
  {
   "cell_type": "markdown",
   "source": [
    "![](../assets/p_laplacian/sol-plap.png)"
   ],
   "metadata": {}
  },
  {
   "cell_type": "markdown",
   "source": [
    "---\n",
    "\n",
    "*This notebook was generated using [Literate.jl](https://github.com/fredrikekre/Literate.jl).*"
   ],
   "metadata": {}
  }
 ],
 "nbformat_minor": 3,
 "metadata": {
  "language_info": {
   "file_extension": ".jl",
   "mimetype": "application/julia",
   "name": "julia",
   "version": "1.10.10"
  },
  "kernelspec": {
   "name": "julia-1.10",
   "display_name": "Julia 1.10.10",
   "language": "julia"
  }
 },
 "nbformat": 4
}
