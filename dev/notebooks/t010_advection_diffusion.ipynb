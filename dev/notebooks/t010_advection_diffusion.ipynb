{
 "cells": [
  {
   "cell_type": "markdown",
   "source": [
    "# Tutorial 10: Advection-diffusion"
   ],
   "metadata": {}
  },
  {
   "cell_type": "markdown",
   "source": [
    "In this tutorial, we will learn:\n",
    "   -  Advection and diffusion term explanation\n",
    "   -  How to create models with arbitrary geometry in Gmsh\n",
    "   -  How to define the equation in the weak form\n",
    "   -  How to solve for and visualize the results"
   ],
   "metadata": {}
  },
  {
   "cell_type": "markdown",
   "source": [
    "## Problem statement"
   ],
   "metadata": {}
  },
  {
   "cell_type": "markdown",
   "source": [
    "In this tutorial we will solve the steady-state advection-diffusion equation."
   ],
   "metadata": {}
  },
  {
   "cell_type": "markdown",
   "source": [
    "In fluid mechanics, advection refers to the transport of a substance or property (such as heat, mass and momentum) by the motion of the fluid itself. It is a key mechanism in which quantities are carried along with the bulk movement of the fluid. As opposed to advection, diffusion refers to the process where substances spread out due to concentration gradients, moving from regions of higher concentration to regions of lower concentration."
   ],
   "metadata": {}
  },
  {
   "cell_type": "markdown",
   "source": [
    "The advection-diffusion equation combines the effects of both mechanisms, making it a powerful tool for modeling real-world transport processes where substances are not only carried by the flow of a fluid but also spread out over time due to diffusion. The best example of an advection-diffusion equation in the real case is the temperature distribution in a flow field."
   ],
   "metadata": {}
  },
  {
   "cell_type": "markdown",
   "source": [
    "Formally, a steady-state advection-diffusion equation with Dirichlet boundary conditions could be defined as:"
   ],
   "metadata": {}
  },
  {
   "cell_type": "markdown",
   "source": [
    "$ \\nabla \\cdot \\left ( D\\nabla T - \\vec{V}T  \\right ) =0 $ ,\\\n",
    "$ T = g $ on boundaries,"
   ],
   "metadata": {}
  },
  {
   "cell_type": "markdown",
   "source": [
    "where:\n",
    "   -  $T$ is the scalar quantity being transported (here T refers to temperature);\n",
    "   -  $\\vec{V}$ is the velocity vector of the fluid (representing advection);\n",
    "   -  $D$ is the diffusion coefficient (a constant that characterizes the rate of diffusion)."
   ],
   "metadata": {}
  },
  {
   "cell_type": "markdown",
   "source": [
    "In order to help users get to know the strong feasibility of Gmsh, where users can create the geometry needed for Gridap, we will define the domain in the shape of a pentagon. We will see both result plottings with and without advection effect."
   ],
   "metadata": {}
  },
  {
   "cell_type": "markdown",
   "source": [
    "## Model geometry in Gmsh"
   ],
   "metadata": {}
  },
  {
   "cell_type": "markdown",
   "source": [
    "This is one of  the most important parts of this tutorial. In this case, we make fully use of `Gmsh`, an open-source finite element mesh generator with a built-in CAD engine and post-processor. Gmsh is the tool highly bound to `Gridap.jl`, and it has its own scripting language (`.geo` scripts), and the scripts could be loaded to a very nice-designed user interface, `ONELAB`. In `ONELAB`, you could easily run the script you wrote, and generate the mesh you want. Here we would illustrate the whole process of creating a 2D model in a pentagon shape using `Gmsh` step by step."
   ],
   "metadata": {}
  },
  {
   "cell_type": "markdown",
   "source": [
    "Note that all the code in this part (\"Model geometry in Gmsh\") is for the `.geo` scripts."
   ],
   "metadata": {}
  },
  {
   "cell_type": "markdown",
   "source": [
    "First thing we need to create is the point, which is the simplest entity we can define in `Gmsh`. Note that in `Gmsh`, all points are uniquely identified by a tag (a strictly positive integer) and defined by a list of four numbers: three coordinates (`X`, `Y` and `Z`) and the target mesh size (we always use `lc`, which stands for characteristic length) close to the point."
   ],
   "metadata": {}
  },
  {
   "cell_type": "markdown",
   "source": [
    "Here we would like to define a pentagon with side length of 2, and `lc` as following:\n",
    "```js\n",
    "lc = 1e-1;\n",
    "```"
   ],
   "metadata": {}
  },
  {
   "cell_type": "markdown",
   "source": [
    "So, all five points could be defined as:\n",
    "```js\n",
    "Point(1) = {0, -1.0000, 0, lc};\n",
    "Point(2) = {0, 1.0000,  0, lc};\n",
    "Point(3) = {1.9015, 1.6190, 0, lc};\n",
    "Point(4) = {3.0777, 0, 0, lc};\n",
    "Point(5) = {1.9015, -1.6190, 0, lc};\n",
    "```"
   ],
   "metadata": {}
  },
  {
   "cell_type": "markdown",
   "source": [
    "Once we have the points, we could naturally try to define the lines. Obviously here we have 5 sides of the pentagon to define. The definition of lines is pretty much the same as points. A straight line is defined by a list of two-point tags, and itself can also be identified by a tag.\n",
    "```js\n",
    "Line(1) = {1, 2};\n",
    "Line(2) = {2, 3};\n",
    "Line(3) = {3, 4};\n",
    "Line(4) = {4, 5};\n",
    "Line(5) = {5, 1};\n",
    "```"
   ],
   "metadata": {}
  },
  {
   "cell_type": "markdown",
   "source": [
    "With the lines defined, we can now define the curve loop, which we could utilize to make a surface. A curve loop is defined by an ordered list of connected lines.\n",
    "```js\n",
    "Curve Loop(1) = {1, 2, 3, 4, 5};\n",
    "```"
   ],
   "metadata": {}
  },
  {
   "cell_type": "markdown",
   "source": [
    "And now is the final step, that is to define the surface. Until now Gmsh has totally understand what we are going to design with the model.\n",
    "```js\n",
    "Plane Surface(1) = {1};\n",
    "```"
   ],
   "metadata": {}
  },
  {
   "cell_type": "markdown",
   "source": [
    "There is another option here: we can try to define physical groups among the entities we defined before. By defining physical groups, we can better assign the “roles” to the entities we defined. Here for example:\n",
    "```js\n",
    "Physical Line(\"l1\") = {1};\n",
    "Physical Line(\"l2\") = {2};\n",
    "Physical Line(\"l3\") = {3};\n",
    "Physical Line(\"l4\") = {4};\n",
    "Physical Line(\"l5\") = {5};\n",
    "```"
   ],
   "metadata": {}
  },
  {
   "cell_type": "markdown",
   "source": [
    "Once we have the model geometry, we can simply click `2D` under the `mesh` category and then click `save`. Then Gmsh would generate a `.msh` file for us. Or we could use code below to ouput the `.msh` file directly:\n",
    "```js\n",
    "Mesh 2;\n",
    "Save \"pentagon_mesh.msh\";\n",
    "```"
   ],
   "metadata": {}
  },
  {
   "cell_type": "markdown",
   "source": [
    "The meshed model is like following:"
   ],
   "metadata": {}
  },
  {
   "cell_type": "markdown",
   "source": [
    "![Pentagon_2D_Mesh](../assets/advection_diffusion/Pentagon_2D_Mesh.png)"
   ],
   "metadata": {}
  },
  {
   "cell_type": "markdown",
   "source": [
    "## Numerical Scheme"
   ],
   "metadata": {}
  },
  {
   "cell_type": "markdown",
   "source": [
    "The weak form of a PDE is a reformulation that allows the problem to be solved in a broader\n",
    "function space. Instead of requiring the solution to satisfy the PDE at every point (as in the strong form),\n",
    "the weak form requires the solution to satisfy an integral equation. This makes it particularly suitable for\n",
    "numerical methods such as the Finite Element Method."
   ],
   "metadata": {}
  },
  {
   "cell_type": "markdown",
   "source": [
    "Since we already hcave the original PDE (strong form), we can multiply each side by a test\n",
    "function $v \\in H^1(\\Omega)$(functions with square-integrable first derivatives). $v$ satisfies\n",
    "the Dirichlet boundary condition of $0$. Make integral on both sides."
   ],
   "metadata": {}
  },
  {
   "cell_type": "markdown",
   "source": [
    "The weak form associated with this formulation is, find $T \\in H^1(\\Omega)$, such that:\n",
    "$$\n",
    "\\int_\\Omega v (\\mathbf{u} \\cdot \\nabla T) \\, \\mathrm{d}\\Omega\n",
    "+ \\int_\\Omega D \\nabla T \\cdot \\nabla v \\, \\mathrm{d}\\Omega\n",
    "= 0\n",
    "$$"
   ],
   "metadata": {}
  },
  {
   "cell_type": "markdown",
   "source": [
    "## FE spaces"
   ],
   "metadata": {}
  },
  {
   "cell_type": "markdown",
   "source": [
    "First, import `Gridap.jl`."
   ],
   "metadata": {}
  },
  {
   "outputs": [],
   "cell_type": "code",
   "source": [
    "using Gridap\n",
    "using GridapGmsh"
   ],
   "metadata": {},
   "execution_count": null
  },
  {
   "cell_type": "markdown",
   "source": [
    "Import the model from file using GmshDiscreteModel:"
   ],
   "metadata": {}
  },
  {
   "outputs": [],
   "cell_type": "code",
   "source": [
    "model_pentagon = GmshDiscreteModel(\"../models/pentagon_mesh.msh\")"
   ],
   "metadata": {},
   "execution_count": null
  },
  {
   "cell_type": "markdown",
   "source": [
    "Set up the test FE space $V_0$, which conforms the zero value boundary conditions."
   ],
   "metadata": {}
  },
  {
   "outputs": [],
   "cell_type": "code",
   "source": [
    "order = 1\n",
    "reffe = ReferenceFE(lagrangian,Float64,order)\n",
    "V_0 = TestFESpace(model_pentagon,reffe;conformity=:H1,dirichlet_tags=[\"l1\",\"l2\",\"l3\",\"l4\",\"l5\"])"
   ],
   "metadata": {},
   "execution_count": null
  },
  {
   "cell_type": "markdown",
   "source": [
    "Set up the boundary conditions. Here we set 5 values, representing 5 different temperatures on 5 sides of the pentagon. Notw that $l1$ is the most left vertical side, we would like to define this as 200. We define the middle two 2 sides as 100, and the most right two sides as 0. Define the trial space $U_g$."
   ],
   "metadata": {}
  },
  {
   "outputs": [],
   "cell_type": "code",
   "source": [
    "boundary_cond = [200,100,0,0,100];\n",
    "U_g = TrialFESpace(V_0,boundary_cond)"
   ],
   "metadata": {},
   "execution_count": null
  },
  {
   "cell_type": "markdown",
   "source": [
    "Do the integration over domain $\\Omega$."
   ],
   "metadata": {}
  },
  {
   "outputs": [],
   "cell_type": "code",
   "source": [
    "degree = 2\n",
    "Ω = Triangulation(model_pentagon)\n",
    "dΩ = Measure(Ω,degree)"
   ],
   "metadata": {},
   "execution_count": null
  },
  {
   "cell_type": "markdown",
   "source": [
    "## Weak form"
   ],
   "metadata": {}
  },
  {
   "cell_type": "markdown",
   "source": [
    "Define the velocity field $\\vec{V}T = (u_1,u_2)$. Here we have two options:\n",
    "   -  zero velocity;\n",
    "   -  $u_1 = 0$, and $u_2 = 2$. That means the flow is going up at a velocity of 2."
   ],
   "metadata": {}
  },
  {
   "outputs": [],
   "cell_type": "code",
   "source": [
    "velocity_zero = VectorValue(0.0, 0.0);\n",
    "\n",
    "velocity_nonzero = VectorValue(0.0, 2.0);"
   ],
   "metadata": {},
   "execution_count": null
  },
  {
   "cell_type": "markdown",
   "source": [
    "Duffusion coefficient is defined as:"
   ],
   "metadata": {}
  },
  {
   "outputs": [],
   "cell_type": "code",
   "source": [
    "D = 0.1;"
   ],
   "metadata": {},
   "execution_count": null
  },
  {
   "cell_type": "markdown",
   "source": [
    "The weak form can thus be represented as:"
   ],
   "metadata": {}
  },
  {
   "outputs": [],
   "cell_type": "code",
   "source": [
    "a_zero(u, v)     = ∫(v * (velocity_zero ⋅∇(u))    + ∇(v) ⋅ (D * ∇(u))) * dΩ\n",
    "a_non_zero(u, v) = ∫(v * (velocity_nonzero ⋅∇(u)) + ∇(v) ⋅ (D * ∇(u))) * dΩ\n",
    "b(v) = 0.0"
   ],
   "metadata": {},
   "execution_count": null
  },
  {
   "cell_type": "markdown",
   "source": [
    "## Solution"
   ],
   "metadata": {}
  },
  {
   "cell_type": "markdown",
   "source": [
    "Now build the FE problem and use the solver. We are solving for both zero and non-zero flow velocity."
   ],
   "metadata": {}
  },
  {
   "outputs": [],
   "cell_type": "code",
   "source": [
    "op_zero = AffineFEOperator(a_zero,b,U_g,V_0)\n",
    "uh_zero = Gridap.Algebra.solve(op_zero)\n",
    "\n",
    "op_non_zero = AffineFEOperator(a_non_zero,b,U_g,V_0)\n",
    "uh_non_zero = Gridap.Algebra.solve(op_non_zero)"
   ],
   "metadata": {},
   "execution_count": null
  },
  {
   "cell_type": "markdown",
   "source": [
    "Ouput the result as a `.vtk` file."
   ],
   "metadata": {}
  },
  {
   "outputs": [],
   "cell_type": "code",
   "source": [
    "mkpath(\"output_path\")\n",
    "\n",
    "writevtk(Ω,\"output_path/results_zero\",cellfields=[\"uh_zero\"=>uh_zero])\n",
    "\n",
    "writevtk(Ω,\"output_path/results_non_zero\",cellfields=[\"uh_non_zero\"=>uh_non_zero])"
   ],
   "metadata": {},
   "execution_count": null
  },
  {
   "cell_type": "markdown",
   "source": [
    "## Visualization"
   ],
   "metadata": {}
  },
  {
   "cell_type": "markdown",
   "source": [
    "We can use the ParaView to preview the results clearly. Here is the temperature distribution without any flow velocity:"
   ],
   "metadata": {}
  },
  {
   "cell_type": "markdown",
   "source": [
    "![Result_zero](../assets/advection_diffusion/Result_zero.png)"
   ],
   "metadata": {}
  },
  {
   "cell_type": "markdown",
   "source": [
    "Here is the temperature distribution with a flow velocity of 2 going up:"
   ],
   "metadata": {}
  },
  {
   "cell_type": "markdown",
   "source": [
    "![Result_zero](../assets/advection_diffusion/Result_non_zero.png)"
   ],
   "metadata": {}
  },
  {
   "cell_type": "markdown",
   "source": [
    "---\n",
    "\n",
    "*This notebook was generated using [Literate.jl](https://github.com/fredrikekre/Literate.jl).*"
   ],
   "metadata": {}
  }
 ],
 "nbformat_minor": 3,
 "metadata": {
  "language_info": {
   "file_extension": ".jl",
   "mimetype": "application/julia",
   "name": "julia",
   "version": "1.10.10"
  },
  "kernelspec": {
   "name": "julia-1.10",
   "display_name": "Julia 1.10.10",
   "language": "julia"
  }
 },
 "nbformat": 4
}
