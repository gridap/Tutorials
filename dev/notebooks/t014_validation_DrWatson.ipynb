{
 "cells": [
  {
   "cell_type": "markdown",
   "source": [
    "# Tutorial 14: On using DrWatson.jl"
   ],
   "metadata": {}
  },
  {
   "cell_type": "markdown",
   "source": [
    "In this tutorial, we will learn\n",
    "- How to use `DrWatson.jl` to accelerate and reproduce our Gridap simulation workflows"
   ],
   "metadata": {}
  },
  {
   "cell_type": "markdown",
   "source": [
    "[DrWatson.jl](https://github.com/JuliaDynamics/DrWatson.jl) is a Julia package that helps managing a typical scientific workflow through all its phases, see a summary [here](https://juliadynamics.github.io/DrWatson.jl/stable/workflow/)."
   ],
   "metadata": {}
  },
  {
   "cell_type": "markdown",
   "source": [
    "All its functionalities can be accessed with (non-invasive) simple function calls."
   ],
   "metadata": {}
  },
  {
   "cell_type": "markdown",
   "source": [
    "In order to illustrate how to benefit from `DrWatson.jl` in `Gridap.jl` simulations, we refactor here the convergence test from the `Code validation` tutorial."
   ],
   "metadata": {}
  },
  {
   "cell_type": "markdown",
   "source": [
    "Instead of implementing a helper function to carry out the convergence test, we will generate them using `DrWatson.jl` functions."
   ],
   "metadata": {}
  },
  {
   "cell_type": "markdown",
   "source": [
    "## 1. Activate your project"
   ],
   "metadata": {}
  },
  {
   "cell_type": "markdown",
   "source": [
    "The first step is to activate our project using `quickactivate`. This does not only activate the project, it also sets the relative paths within the project, so you can safely use the functions `projectdir()` and its derivatives `datadir()`, `plotsdir()`, `srcdir()`, etc. Beware of this [warning](https://juliadynamics.github.io/DrWatson.jl/dev/project/#DrWatson.quickactivate), you must activate the project before using other packages."
   ],
   "metadata": {}
  },
  {
   "outputs": [],
   "cell_type": "code",
   "source": [
    "using DrWatson\n",
    "@quickactivate \"Tutorials\""
   ],
   "metadata": {},
   "execution_count": null
  },
  {
   "cell_type": "markdown",
   "source": [
    "Although this tutorial is already in a Project (and git repo), we could also start our scientific project from scratch with `DrWatson.jl`, using function `initialize_project`. This function initiates, on the working directory, (1) a git repo with a folder structure enriched for scientific workflows, e.g. folders `data`, `plots`, `papers`, etc., and (2)`Project.toml` and `Manifest.toml` files. More details [here](https://juliadynamics.github.io/DrWatson.jl/dev/workflow/#.-Setup-the-project-1)."
   ],
   "metadata": {}
  },
  {
   "cell_type": "markdown",
   "source": [
    "Once the project is activated, we ensure that all packages we use have the versions dictated by our activated project."
   ],
   "metadata": {}
  },
  {
   "outputs": [],
   "cell_type": "code",
   "source": [
    "using Gridap\n",
    "import Gridap: ∇"
   ],
   "metadata": {},
   "execution_count": null
  },
  {
   "cell_type": "markdown",
   "source": [
    "## 2. Prepare the simulations"
   ],
   "metadata": {}
  },
  {
   "cell_type": "markdown",
   "source": [
    "We consider the Poisson equation in the unit square $\\Omega\\doteq (0,1)^2$ as a model problem,\n",
    "\n",
    "$$\n",
    "\\left\\lbrace\n",
    "\\begin{aligned}\n",
    "-\\Delta u = f  \\ \\text{in} \\ \\Omega\\\\\n",
    "u = g \\ \\text{on}\\ \\partial\\Omega.\\\\\n",
    "\\end{aligned}\n",
    "\\right.\n",
    "$$\n",
    "\n",
    "We are going to perform a convergence test with the manufactured solution $u(x) = x_1^3 + x_2^3$."
   ],
   "metadata": {}
  },
  {
   "cell_type": "markdown",
   "source": [
    "To this end, we want to solve our computational model for many combinations of mesh size and order of FE approximation (*parameters*) and extract the L2- and H1-norm errors (*output data*)."
   ],
   "metadata": {}
  },
  {
   "cell_type": "markdown",
   "source": [
    "We first group all parameters and parameter values in a single dictionary"
   ],
   "metadata": {}
  },
  {
   "outputs": [],
   "cell_type": "code",
   "source": [
    "params = Dict(\n",
    "  \"cells_per_axis\" => [8,16,32,64],\n",
    "  \"fe_order\" => [1,2]\n",
    ")"
   ],
   "metadata": {},
   "execution_count": null
  },
  {
   "cell_type": "markdown",
   "source": [
    "and then we use DrWatson's `dict_list` to expand all the parameters into a vector of dictionaries. Each dictionary contains the parameter-value combinations corresponding to a single simulation case."
   ],
   "metadata": {}
  },
  {
   "outputs": [],
   "cell_type": "code",
   "source": [
    "dicts = dict_list(params)"
   ],
   "metadata": {},
   "execution_count": null
  },
  {
   "cell_type": "markdown",
   "source": [
    "**Warning!** Be careful when combining parameters of different value type. You may end up with dictionaries that do not have a concrete type and experience a significant type-inference overhead when running the simulations."
   ],
   "metadata": {}
  },
  {
   "cell_type": "markdown",
   "source": [
    "We wrap next in a function a run of our computational model for a single pair `(cells_per_axis,fe_order)`. The function returns the L2- and H1-error norms."
   ],
   "metadata": {}
  },
  {
   "cell_type": "markdown",
   "source": [
    "We define the manufactured function, as usual"
   ],
   "metadata": {}
  },
  {
   "outputs": [],
   "cell_type": "code",
   "source": [
    "p = 3\n",
    "u(x) = x[1]^p+x[2]^p\n",
    "∇u(x) = VectorValue(p*x[1]^(p-1),p*x[2]^(p-1))\n",
    "f(x) = -p*(p-1)*(x[1]^(p-2)+x[2]^(p-2))\n",
    "∇(::typeof(u)) = ∇u"
   ],
   "metadata": {},
   "execution_count": null
  },
  {
   "cell_type": "markdown",
   "source": [
    "And the function that runs a single case of our parametric space reads"
   ],
   "metadata": {}
  },
  {
   "outputs": [],
   "cell_type": "code",
   "source": [
    "function run(n::Int,k::Int)\n",
    "\n",
    "  domain = (0,1,0,1)\n",
    "  partition = (n,n)\n",
    "  model = CartesianDiscreteModel(domain,partition)\n",
    "\n",
    "  reffe = ReferenceFE(lagrangian,Float64,k)\n",
    "  V0 = TestFESpace(model,reffe,conformity=:H1,dirichlet_tags=\"boundary\")\n",
    "  U = TrialFESpace(V0,u)\n",
    "\n",
    "  degree = 2*p\n",
    "  Ω = Triangulation(model)\n",
    "  dΩ = Measure(Ω,degree)\n",
    "\n",
    "  a(u,v) = ∫( ∇(u)⊙∇(v) ) * dΩ\n",
    "  b(v) = ∫( v*f ) * dΩ\n",
    "\n",
    "  op = AffineFEOperator(a,b,U,V0)\n",
    "\n",
    "  uh = solve(op)\n",
    "\n",
    "  e = u - uh\n",
    "\n",
    "  el2 = sqrt(sum( ∫( e*e )*dΩ ))\n",
    "  eh1 = sqrt(sum( ∫( e*e + ∇(e)⋅∇(e) )*dΩ ))\n",
    "\n",
    "  (el2, eh1)\n",
    "\n",
    "end"
   ],
   "metadata": {},
   "execution_count": null
  },
  {
   "cell_type": "markdown",
   "source": [
    "In order to communicate with `DrWatson.jl` helper functions, we need to add an extra layer on top of `run`, such that the input and output are dictionaries."
   ],
   "metadata": {}
  },
  {
   "cell_type": "markdown",
   "source": [
    "Note the use of functions [@unpack](https://juliadynamics.github.io/DrWatson.jl/dev/name/#UnPack.@unpack) and [@dict](https://juliadynamics.github.io/DrWatson.jl/dev/name/#DrWatson.@dict) to decompose and compose the dictionaries. You can check in `DrWatson.jl`'s documentation further functions to manipulate dictionaries."
   ],
   "metadata": {}
  },
  {
   "outputs": [],
   "cell_type": "code",
   "source": [
    "function run(case::Dict)\n",
    "  @unpack cells_per_axis, fe_order = case\n",
    "  el2, eh1 = run(cells_per_axis,fe_order)\n",
    "  h = 1.0/cells_per_axis\n",
    "  results = @strdict el2 eh1 h\n",
    "  merge(case,results)\n",
    "end"
   ],
   "metadata": {},
   "execution_count": null
  },
  {
   "cell_type": "markdown",
   "source": [
    "## 3. Run and save"
   ],
   "metadata": {}
  },
  {
   "cell_type": "markdown",
   "source": [
    "While running the simulations, we need to save the results. `DrWatson.jl` frees you from the burden of generating the filenames for each case. For this purpose, it provides the functions [savename](https://juliadynamics.github.io/DrWatson.jl/stable/name/#DrWatson.savename), [@tagsave](https://juliadynamics.github.io/DrWatson.jl/stable/save/#DrWatson.@tagsave) or [produce_or_load](https://juliadynamics.github.io/DrWatson.jl/stable/save/#DrWatson.produce_or_load), among others."
   ],
   "metadata": {}
  },
  {
   "cell_type": "markdown",
   "source": [
    "Among them, we recommend using [produce_or_load](https://juliadynamics.github.io/DrWatson.jl/stable/save/#DrWatson.produce_or_load). The special feature of this function is that it checks whether the file containing the output data of the case already exists. If that happens, then the function loads the file, instead of running the case. In this way, we avoid repeating simulations that have already been run."
   ],
   "metadata": {}
  },
  {
   "cell_type": "markdown",
   "source": [
    "Thus, in order to run all simulation cases, it suffices to map all cases in `dicts` to the `produce_or_load` function:"
   ],
   "metadata": {}
  },
  {
   "outputs": [],
   "cell_type": "code",
   "source": [
    "function run_or_load(case::Dict)\n",
    "  produce_or_load(\n",
    "    projectdir(\"notebooks\",\"output_path\"),\n",
    "    case,\n",
    "    run,\n",
    "    prefix=\"res\",\n",
    "    tag=true,\n",
    "    verbose=true\n",
    "  )\n",
    "  return true\n",
    "end\n",
    "\n",
    "map(run_or_load,dicts)"
   ],
   "metadata": {},
   "execution_count": null
  },
  {
   "cell_type": "markdown",
   "source": [
    "Note that the results of each case are stored in a binary database file in the `projectdir(\"notebooks\",\"output_path\")` folder. Each result file stores the output dictionary that returns from `run(case)`."
   ],
   "metadata": {}
  },
  {
   "cell_type": "markdown",
   "source": [
    "We also observe that we set `tag=true` in `produce_or_load`. This option is *key to preserve reproducibility*. It adds to the output dictionary the field `:gitcommit`, thus allowing us to trace the status of the code, at which we obtained those results. Furthermore, if the git repo is dirty, one more field `:gitpatch` is added, storing the difference string."
   ],
   "metadata": {}
  },
  {
   "cell_type": "markdown",
   "source": [
    "In some situations, you will prefer to repeat all simulations and track their evolution as you change the code. To this end, check out [safesave](https://juliadynamics.github.io/DrWatson.jl/dev/save/#DrWatson.safesave)."
   ],
   "metadata": {}
  },
  {
   "cell_type": "markdown",
   "source": [
    "## 4. Listing the simulations"
   ],
   "metadata": {}
  },
  {
   "cell_type": "markdown",
   "source": [
    "Results stored by `DrWatson.jl` in databases are handled with the [DataFrames.jl](https://dataframes.juliadata.org/stable/) package, a powerful Julia package to manipulate tabular data."
   ],
   "metadata": {}
  },
  {
   "outputs": [],
   "cell_type": "code",
   "source": [
    "using DataFrames"
   ],
   "metadata": {},
   "execution_count": null
  },
  {
   "cell_type": "markdown",
   "source": [
    "To collect all simulation results, it suffices to use the `collect_results!` function from `DrWatson.jl` from the folder where the results are stored."
   ],
   "metadata": {}
  },
  {
   "outputs": [],
   "cell_type": "code",
   "source": [
    "df = collect_results(projectdir(\"notebooks\",\"output_path\"))"
   ],
   "metadata": {},
   "execution_count": null
  },
  {
   "cell_type": "markdown",
   "source": [
    "We order next the database by (ascending) mesh size and we extract the arrays of mesh sizes and errors"
   ],
   "metadata": {}
  },
  {
   "outputs": [],
   "cell_type": "code",
   "source": [
    "sort!(df,:h)\n",
    "hs = df[(df.fe_order .== 1),:h]\n",
    "el2s1 = df[(df.fe_order .== 1),:el2]\n",
    "eh1s1 = df[(df.fe_order .== 1),:eh1]\n",
    "el2s2 = df[(df.fe_order .== 2),:el2]\n",
    "eh1s2 = df[(df.fe_order .== 2),:eh1]"
   ],
   "metadata": {},
   "execution_count": null
  },
  {
   "cell_type": "markdown",
   "source": [
    "## 5. Generate the plot"
   ],
   "metadata": {}
  },
  {
   "cell_type": "markdown",
   "source": [
    "With the generated data, we do the classical convergence plot and interpret it in the same way as in the validation tutorial."
   ],
   "metadata": {}
  },
  {
   "outputs": [],
   "cell_type": "code",
   "source": [
    "using Plots\n",
    "\n",
    "plot(hs,[el2s1 eh1s1 el2s2 eh1s2],\n",
    "    xaxis=:log, yaxis=:log,\n",
    "    label=[\"L2 k=1\" \"H1 k=1\" \"L2 k=2\" \"H1 k=2\"],\n",
    "    shape=:auto,\n",
    "    xlabel=\"h\",ylabel=\"error norm\")"
   ],
   "metadata": {},
   "execution_count": null
  },
  {
   "cell_type": "markdown",
   "source": [
    "Congrats, another tutorial done!"
   ],
   "metadata": {}
  },
  {
   "cell_type": "markdown",
   "source": [
    "---"
   ],
   "metadata": {}
  },
  {
   "cell_type": "markdown",
   "source": [
    "If you use DrWatson.jl in a scientific project that leads to a publication, please do not forget to cite the paper associated with it:\n",
    "```\n",
    "@article{Datseris2020,\n",
    " doi = {10.21105/joss.02673},\n",
    " url = {https://doi.org/10.21105/joss.02673},\n",
    " year = {2020},\n",
    " publisher = {The Open Journal},\n",
    " volume = {5},\n",
    " number = {54},\n",
    " pages = {2673},\n",
    " author = {George Datseris and Jonas Isensee and Sebastian Pech and Tamás Gál},\n",
    " title = {DrWatson: the perfect sidekick for your scientific inquiries},\n",
    " journal = {Journal of Open Source Software}\n",
    "}\n",
    "```"
   ],
   "metadata": {}
  },
  {
   "cell_type": "markdown",
   "source": [
    "---\n",
    "\n",
    "*This notebook was generated using [Literate.jl](https://github.com/fredrikekre/Literate.jl).*"
   ],
   "metadata": {}
  }
 ],
 "nbformat_minor": 3,
 "metadata": {
  "language_info": {
   "file_extension": ".jl",
   "mimetype": "application/julia",
   "name": "julia",
   "version": "1.10.10"
  },
  "kernelspec": {
   "name": "julia-1.10",
   "display_name": "Julia 1.10.10",
   "language": "julia"
  }
 },
 "nbformat": 4
}
