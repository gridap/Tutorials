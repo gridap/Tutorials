{
 "cells": [
  {
   "cell_type": "markdown",
   "source": [
    "# Tutorial 17: Transient Poisson equation"
   ],
   "metadata": {}
  },
  {
   "cell_type": "markdown",
   "source": [
    "In this tutorial, we will learn\n",
    "* How to solve a simple time-dependent PDE in Gridap\n",
    "* How to build a transient FE space\n",
    "* How to define a transient weak form\n",
    "* How to set up a time-marching scheme for a linear ODE\n",
    "* How to visualise transient results"
   ],
   "metadata": {}
  },
  {
   "cell_type": "markdown",
   "source": [
    "We split the presentation of the ODE module of Gridap in two parts:\n",
    "* In this tutorial we focus on the differences between the steady and time-dependent cases, on a simple linear time-dependent PDE.\n",
    "* Tutorial 18 will introduce more advanced features of the ODE module of Gridap, applied to a nonlinear time-dependent PDE."
   ],
   "metadata": {}
  },
  {
   "cell_type": "markdown",
   "source": [
    "The [documentation of the ODE module of Gridap](https://gridap.github.io/Gridap.jl/dev/ODEs/) contains a detailed description of the framework for transient problems implemented in Gridap, including a [classification of transient problem](https://gridap.github.io/Gridap.jl/dev/ODEs/#Classification-of-ODEs), a [classification of numerical schemes](https://gridap.github.io/Gridap.jl/dev/ODEs/#Classification-of-numerical-schemes), an overview of the [high-level API](https://gridap.github.io/Gridap.jl/dev/ODEs/#High-level-API-in-Gridap) which this tutorial illustrates and of the [internals of the ODE module](https://gridap.github.io/Gridap.jl/dev/ODEs/#Low-level-implementation), as well as some [notes on and analysis of the numerical schemes implemented in Gridap](https://gridap.github.io/Gridap.jl/dev/ODEs/#Numerical-schemes-formulation-and-implementation)."
   ],
   "metadata": {}
  },
  {
   "cell_type": "markdown",
   "source": [
    "## Problem statement"
   ],
   "metadata": {}
  },
  {
   "cell_type": "markdown",
   "source": [
    "We solve the heat equation in the two-dimensional domain $\\Omega = [-1, +1]^{2}$. Let $k$ denote the thermal conductivity of the material, $c$ its specific heat capacity, $\\rho$ its density and $q$ a rate of external heat generation. Let $g$ denote the temperature on the boundary of the domain. Let $t_{0}$ be the initial time, and $u_{0}$ be the initial temperature. The strong form of the heat equation reads: find $u(t): \\Omega \\to \\mathbb{R}$ such that\n",
    "$$\n",
    "\\left\\lbrace\n",
    "\\begin{aligned}\n",
    "\\rho(t, x) c(t, x) \\partial_{t} u(t, x) - \\nabla \\cdot (k(t, x) \\nabla u(t, x)) &= q(t, x) & \\text{ in } \\Omega, \\\\\n",
    "u(t, x) &= g(t, x) & \\text{ on } \\partial \\Omega, \\\\\n",
    "u(t_{0}, x) &= u_{0}(x) & \\text{ in } \\Omega \\\\\n",
    "\\end{aligned}\n",
    "\\right.\n",
    "$$\n",
    "We assume that the data ($k$, $c$, $\\rho$ and $q$) is continuous in time. Let $\\alpha = k / (\\rho c)$ denote the thermal diffusivity and $f = q / (\\rho c)$ be the rate of external temperature generation. The weak form of the problem reads: find $u(t) \\in U_{g}(t)$ such that $b(t, u, v) = \\ell(t, v)$ for all $t \\geq t_{0}$ and $v \\in V_{0}$, where the time-dependent bilinear and linear forms $b(t, \\cdot, \\cdot)$ and $\\ell(t, \\cdot)$ are defined as\n",
    "$$\n",
    "\\begin{aligned}\n",
    "b(t, u, v) &= m(t, u, v) + a(t, u, v), \\\\\n",
    "m(t, u, v) &= \\int_{\\Omega} v \\partial_{t} u(t) \\ {\\rm d} \\Omega, \\\\\n",
    "a(t, u, v) &= \\int_{\\Omega} \\alpha(t) \\nabla v \\cdot \\nabla u(t) \\ {\\rm d} \\Omega, \\\\\n",
    "\\ell(t, v) &= \\int_{\\Omega} v f(t) \\ {\\rm d} \\Omega,\n",
    "\\end{aligned}\n",
    "$$\n",
    "and the the functional spaces are $U_{g}(t) = H^{1}_{g(t)}(\\Omega)$ and $V_{0} = H^{1}_{0}(\\Omega)$. In particular, the trial space $U_{g}$ is a transient functional space, in the sense that its Dirichlet trace $g$ depends on time. However, the test space $V_{0}$ is time-independent (it has a constant, zero Dirichlet trace). For all $t \\geq t_{0}$, we assume that $\\alpha(t) \\in L^{\\infty}(\\Omega)$ is uniformly positive in $\\Omega$, $f(t) \\in H^{-1}(\\Omega)$, $g(t) \\in H^{1/2}(\\Omega)$, and finally $u_{0} \\in L^{2}(\\Omega)$."
   ],
   "metadata": {}
  },
  {
   "cell_type": "markdown",
   "source": [
    "## Discrete model"
   ],
   "metadata": {}
  },
  {
   "cell_type": "markdown",
   "source": [
    "We start with the discretization of the computational domain. In our case, we consider a $20 \\times 20$ Cartesian mesh of the square $[-1, +1]^{2}$."
   ],
   "metadata": {}
  },
  {
   "outputs": [],
   "cell_type": "code",
   "source": [
    "using Gridap\n",
    "domain = (-1, +1, -1, +1)\n",
    "partition = (20, 20)\n",
    "model = CartesianDiscreteModel(domain, partition)"
   ],
   "metadata": {},
   "execution_count": null
  },
  {
   "cell_type": "markdown",
   "source": [
    "## FE spaces"
   ],
   "metadata": {}
  },
  {
   "cell_type": "markdown",
   "source": [
    "In this tutorial we use a linear Lagrangian FE space."
   ],
   "metadata": {}
  },
  {
   "outputs": [],
   "cell_type": "code",
   "source": [
    "order = 1\n",
    "reffe = ReferenceFE(lagrangian, Float64, order)"
   ],
   "metadata": {},
   "execution_count": null
  },
  {
   "cell_type": "markdown",
   "source": [
    "The test space is defined as for steady problems"
   ],
   "metadata": {}
  },
  {
   "outputs": [],
   "cell_type": "code",
   "source": [
    "V0 = TestFESpace(model, reffe, dirichlet_tags=\"boundary\")"
   ],
   "metadata": {},
   "execution_count": null
  },
  {
   "cell_type": "markdown",
   "source": [
    "The trial space is now a `TransientTrialFESpace`, which is constructed from a `TestFESpace` and a function (or vector of functions if several Dirichlet tags are provided) for the Dirichlet boundary conditions. The Dirichlet trace has to be prescribed as a function of time and then space as follows"
   ],
   "metadata": {}
  },
  {
   "outputs": [],
   "cell_type": "code",
   "source": [
    "g(t) = x -> exp(-2 * t) * sinpi(t * x[1]) * (x[2]^2 - 1)\n",
    "Ug = TransientTrialFESpace(V0, g)"
   ],
   "metadata": {},
   "execution_count": null
  },
  {
   "cell_type": "markdown",
   "source": [
    "## Triangulation and quadrature"
   ],
   "metadata": {}
  },
  {
   "cell_type": "markdown",
   "source": [
    "As usual, we equip the model with an integration mesh and a measure"
   ],
   "metadata": {}
  },
  {
   "outputs": [],
   "cell_type": "code",
   "source": [
    "degree = 2\n",
    "Ω = Triangulation(model)\n",
    "dΩ = Measure(Ω, degree)"
   ],
   "metadata": {},
   "execution_count": null
  },
  {
   "cell_type": "markdown",
   "source": [
    "## Weak form\n",
    "We define the thermal diffusivity $\\alpha$ and the rate of external temperature generation $f$."
   ],
   "metadata": {}
  },
  {
   "outputs": [],
   "cell_type": "code",
   "source": [
    "α(t) = x -> 1 + sin(t) * (x[1]^2 + x[2]^2) / 4\n",
    "f(t) = x -> sin(t) * sinpi(x[1]) * sinpi(x[2])"
   ],
   "metadata": {},
   "execution_count": null
  },
  {
   "cell_type": "markdown",
   "source": [
    "We are going to construct a transient linear FEOperator by providing the bilinear forms associated to $\\partial_{t} u$ and $u$, as well as the forcing term. Note that they now receive time as an additional argument, and the time derivative operator is `∂t`."
   ],
   "metadata": {}
  },
  {
   "outputs": [],
   "cell_type": "code",
   "source": [
    "m(t, dtu, v) = ∫(v * dtu)dΩ\n",
    "a(t, u, v) = ∫(α(t) * ∇(v) ⋅ ∇(u))dΩ\n",
    "l(t, v) = ∫(v * f(t))dΩ\n",
    "op = TransientLinearFEOperator((a, m), l, Ug, V0)"
   ],
   "metadata": {},
   "execution_count": null
  },
  {
   "cell_type": "markdown",
   "source": [
    "In our case, the mass term ($m(t, \\cdot, \\cdot)$) is constant in time. We can take advantage of that to save some computational effort, and indicate it to Gridap as follows"
   ],
   "metadata": {}
  },
  {
   "outputs": [],
   "cell_type": "code",
   "source": [
    "op_opt = TransientLinearFEOperator((a, m), l, Ug, V0, constant_forms=(true, false))"
   ],
   "metadata": {},
   "execution_count": null
  },
  {
   "cell_type": "markdown",
   "source": [
    "If the stiffness term ($a(t, \\cdot, \\cdot)$) had been constant in time, we could have set `constant_forms=(true, true)`."
   ],
   "metadata": {}
  },
  {
   "cell_type": "markdown",
   "source": [
    "## Transient solver"
   ],
   "metadata": {}
  },
  {
   "cell_type": "markdown",
   "source": [
    "Once we have defined the FE operator, we proceed with the definition of the ODE solver, i.e. the scheme that will be used for the integration in time. In this tutorial, we use the `ThetaMethod` with $\\theta = 1/2$, resulting in a second-order scheme. The `ThetaMethod` function receives a solver for systems of equations, the time step size $\\Delta t$ (constant) and the value of $\\theta \\in [0, 1]$. Since the ODE is linear the systems of equation that will arise in the time-marching scheme will be linear so we can provide `ThetaMethod` with a linear solver."
   ],
   "metadata": {}
  },
  {
   "outputs": [],
   "cell_type": "code",
   "source": [
    "ls = LUSolver()\n",
    "Δt = 0.05\n",
    "θ = 0.5\n",
    "solver = ThetaMethod(ls, Δt, θ)"
   ],
   "metadata": {},
   "execution_count": null
  },
  {
   "cell_type": "markdown",
   "source": [
    "Gridap also implements explicit and diagonally-implicit Runge-Kutta schemes. One can access the full list of available Butcher tableaus through the exported constant `available_tableaus`. There are also constructors for explicit 2- and 3-stage schemes: `EXRK22(α)` and `EXRK33(α, β)`, `EXRK33_1(α)`, `EXRK33_2(α)` respectively, and diagonally-implicit 1- and 2-stage schemes: `SDIRK11(α)`, `SDIRK12()`, `SDIRK22(α, β, γ)`, `SDIRK23(λ)`. See the documentation of [Runge-Kutta schemes in Gridap](https://gridap.github.io/Gridap.jl/dev/ODEs/#Runge-Kutta) for a description of the corresponding tableaus. For example, one could have chosen a two-stage singly-diagonally-implicit scheme (of order 2) as follows."
   ],
   "metadata": {}
  },
  {
   "outputs": [],
   "cell_type": "code",
   "source": [
    "tableau = :SDIRK_2_2\n",
    "solver_rk = RungeKutta(ls, ls, Δt, tableau)"
   ],
   "metadata": {},
   "execution_count": null
  },
  {
   "cell_type": "markdown",
   "source": [
    "Let $t_{F} > t_{0}$ be a final time, until when we want to evolve the problem. We define the solution using the `solve` function, giving the ODE solver, the transient FE operator, the initial and final times, and the initial solution. To construct the initial condition we interpolate the initial function $u_{0}$ onto the FE space $U_{g}$ at the initial time. In our case, $u_{0}$ is simply $g(t_{0})$."
   ],
   "metadata": {}
  },
  {
   "outputs": [],
   "cell_type": "code",
   "source": [
    "t0, tF = 0.0, 10.0\n",
    "uh0 = interpolate_everywhere(g(t0), Ug(t0))\n",
    "uh = solve(solver, op, t0, tF, uh0)"
   ],
   "metadata": {},
   "execution_count": null
  },
  {
   "cell_type": "markdown",
   "source": [
    "## Postprocessing"
   ],
   "metadata": {}
  },
  {
   "cell_type": "markdown",
   "source": [
    "We highlight that `uh` is an iterable function and the result at each time step is only computed lazily when iterating over it. We can post-process the results and generate the corresponding `vtk` files using the `createpvd` and `createvtk` functions. The former will create a `.pvd` file with the collection of `.vtu` files saved at each time step by `createvtk`. The computation of the problem solutions will be triggered in the following loop:"
   ],
   "metadata": {}
  },
  {
   "outputs": [],
   "cell_type": "code",
   "source": [
    "if !isdir(\"tmp\")\n",
    "  mkdir(\"tmp\")\n",
    "end\n",
    "\n",
    "createpvd(\"results\") do pvd\n",
    "  pvd[0] = createvtk(Ω, \"tmp/results_0\" * \".vtu\", cellfields=[\"u\" => uh0])\n",
    "  for (tn, uhn) in uh\n",
    "    pvd[tn] = createvtk(Ω, \"tmp/results_$tn\" * \".vtu\", cellfields=[\"u\" => uhn])\n",
    "  end\n",
    "end"
   ],
   "metadata": {},
   "execution_count": null
  },
  {
   "cell_type": "markdown",
   "source": [
    "![](../assets/transient_linear/result.gif)"
   ],
   "metadata": {}
  },
  {
   "cell_type": "markdown",
   "source": [
    "---\n",
    "\n",
    "*This notebook was generated using [Literate.jl](https://github.com/fredrikekre/Literate.jl).*"
   ],
   "metadata": {}
  }
 ],
 "nbformat_minor": 3,
 "metadata": {
  "language_info": {
   "file_extension": ".jl",
   "mimetype": "application/julia",
   "name": "julia",
   "version": "1.10.10"
  },
  "kernelspec": {
   "name": "julia-1.10",
   "display_name": "Julia 1.10.10",
   "language": "julia"
  }
 },
 "nbformat": 4
}
