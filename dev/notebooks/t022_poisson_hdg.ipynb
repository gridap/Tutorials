{
 "cells": [
  {
   "cell_type": "markdown",
   "source": [
    "# Tutorial 22: Poisson with HDG"
   ],
   "metadata": {}
  },
  {
   "cell_type": "markdown",
   "source": [
    "In this tutorial, we will implement a Hybridizable Discontinuous Galerkin (HDG) method\n",
    "for solving the Poisson equation. The HDG method is an efficient variant of DG methods\n",
    "that introduces an auxiliary variable m on mesh interfaces to reduce the global system size.\n",
    "\n",
    "## HDG Discretization\n",
    "\n",
    "We consider the Poisson equation with Dirichlet boundary conditions:\n",
    "\n",
    "$$\n",
    "\\begin{aligned}\n",
    "-\\Delta u &= f \\quad \\text{in} \\quad \\Omega\\\\\n",
    "u &= g \\quad \\text{in} \\quad \\partial\\Omega\n",
    "\\end{aligned}\n",
    "$$\n",
    "\n",
    "The HDG method first rewrites the problem as a first-order system:\n",
    "\n",
    "$$\n",
    "\\begin{aligned}\n",
    "\\boldsymbol{q} + \\nabla u &= \\boldsymbol{0} \\quad \\text{in} \\quad \\Omega\\\\\n",
    "\\nabla \\cdot \\boldsymbol{q} &= f \\quad \\text{in} \\quad \\Omega\\\\\n",
    "u &= g \\quad \\text{on} \\quad \\partial\\Omega\n",
    "\\end{aligned}\n",
    "$$\n",
    "\n",
    "The HDG discretization introduces three variables:\n",
    "- $\\boldsymbol{q}_h$: the approximation to the flux $\\boldsymbol{q}$\n",
    "- $u_h$: the approximation to the solution $u$\n",
    "- $m_h$: the approximation to the trace of $u$ on element faces\n",
    "\n",
    "Numerical fluxes are defindes as\n",
    "\n",
    "$$\n",
    "\\widehat{\\boldsymbol{q}}_h = \\boldsymbol{q}_h + \\tau(u_h - m_h)\\boldsymbol{n}\n",
    "$$\n",
    "\n",
    "where $\\tau$ is a stabilization parameter.\n",
    "\n",
    "First, let's load the required Gridap packages:"
   ],
   "metadata": {}
  },
  {
   "outputs": [],
   "cell_type": "code",
   "source": [
    "using Gridap\n",
    "using Gridap.Geometry\n",
    "using Gridap.FESpaces\n",
    "using Gridap.MultiField\n",
    "using Gridap.CellData"
   ],
   "metadata": {},
   "execution_count": null
  },
  {
   "cell_type": "markdown",
   "source": [
    "## Manufactured Solution\n",
    "\n",
    "We use the method of manufactured solutions to verify our implementation.\n",
    "We choose a solution u and derive the corresponding source term f:"
   ],
   "metadata": {}
  },
  {
   "outputs": [],
   "cell_type": "code",
   "source": [
    "u(x) = sin(2*π*x[1])*sin(2*π*x[2])\n",
    "q(x) = -∇(u)(x)  # Define the flux q = -∇u\n",
    "f(x) = (∇ ⋅ q)(x) # Source term f = -Δu = -∇⋅(∇u)$"
   ],
   "metadata": {},
   "execution_count": null
  },
  {
   "cell_type": "markdown",
   "source": [
    "## Geometry\n",
    "\n",
    "We generate a D-dimensional simplicial mesh from a Cartesian grid:"
   ],
   "metadata": {}
  },
  {
   "outputs": [],
   "cell_type": "code",
   "source": [
    "D = 2  # Problem dimension\n",
    "nc = Tuple(fill(8, D))  # 4 cells in each direction\n",
    "domain = Tuple(repeat([0, 1], D))  # Unit cube domain\n",
    "model = simplexify(CartesianDiscreteModel(domain,nc))"
   ],
   "metadata": {},
   "execution_count": null
  },
  {
   "cell_type": "markdown",
   "source": [
    "From this mesh, we will require two triangulations where to define our HDG spaces:\n",
    "\n",
    "1. A cell triangulation $\\Omega$, for the volume variables\n",
    "2. A face triangulation $\\Gamma$, for the skeleton variables\n",
    "\n",
    "These are given by"
   ],
   "metadata": {}
  },
  {
   "outputs": [],
   "cell_type": "code",
   "source": [
    "Ω = Triangulation(ReferenceFE{D}, model)  # Volume triangulation\n",
    "Γ = Triangulation(ReferenceFE{D-1}, model)  # Skeleton triangulation"
   ],
   "metadata": {},
   "execution_count": null
  },
  {
   "cell_type": "markdown",
   "source": [
    "## PatchTopology and PatchTriangulation\n",
    "\n",
    "A key aspect of hybrid methods is the use of static condensation, which is the\n",
    "elimination of cell unknowns to reduce the size of the global system.\n",
    "To achieve this, we need to be able to assemble and solve local problems on each cell, that\n",
    "involve\n",
    "  - contributions from the cell itself\n",
    "  - contributions from the cell faces\n",
    "To this end, Gridap provides a general framework for patch-assembly and solves. The idea\n",
    "is to define a patch decomposition of the mesh (in this case, a patch is a cell and its sourrounding\n",
    "faces). We can then gather contributions for each patch, solve the local problems, and\n",
    "assemble the results into the global system.\n",
    "\n",
    "The following code creates the required `PatchTopology` for the problem at hand. We then\n",
    "take d-dimensional slices of it by the means of `PatchTriangulation` and `PatchBoundaryTriangulation`.\n",
    "These are the `Triangulation`s we will integrate our weakform over."
   ],
   "metadata": {}
  },
  {
   "outputs": [],
   "cell_type": "code",
   "source": [
    "ptopo = Geometry.PatchTopology(model)\n",
    "Ωp = Geometry.PatchTriangulation(model,ptopo)  # Patch volume triangulation\n",
    "Γp = Geometry.PatchBoundaryTriangulation(model,ptopo)  # Patch skeleton triangulation"
   ],
   "metadata": {},
   "execution_count": null
  },
  {
   "cell_type": "markdown",
   "source": [
    "## FESpaces\n",
    "\n",
    "HDG uses three different finite element spaces:\n",
    "1. A vector-valued space for the flux q (Q)\n",
    "2. A scalar space for the solution u (V)\n",
    "3. A scalar space for the interface variable m (M)\n",
    "\n",
    "We then define discontinuous finite element spaces of the approppriate order, locally $\\mathbb{P}^k$.\n",
    "Note that only the skeletal space has Dirichlet boundary conditions."
   ],
   "metadata": {}
  },
  {
   "outputs": [],
   "cell_type": "code",
   "source": [
    "order = 1  # Polynomial order\n",
    "reffe_Q = ReferenceFE(lagrangian, VectorValue{D, Float64}, order; space=:P)\n",
    "reffe_V = ReferenceFE(lagrangian, Float64, order; space=:P)\n",
    "reffe_M = ReferenceFE(lagrangian, Float64, order; space=:P)\n",
    "\n",
    "V = TestFESpace(Ω, reffe_V; conformity=:L2)  # Discontinuous vector space\n",
    "Q = TestFESpace(Ω, reffe_Q; conformity=:L2)  # Discontinuous scalar space\n",
    "M = TestFESpace(Γ, reffe_M; conformity=:L2, dirichlet_tags=\"boundary\")  # Interface space\n",
    "N = TrialFESpace(M, u)"
   ],
   "metadata": {},
   "execution_count": null
  },
  {
   "cell_type": "markdown",
   "source": [
    "## MultiField Structure\n",
    "\n",
    "Since we are doing static condensation, we need assemble by blocks. In particular, the\n",
    "`StaticCondensationOperator` expects the variables to be groupped in two blocks:\n",
    "  - The eliminated variables (in this case, the volume variables q and u)\n",
    "  - The retained variables (in this case, the interface variable m)\n",
    "We will assemble by blocks using the `BlockMultiFieldStyle` API."
   ],
   "metadata": {}
  },
  {
   "outputs": [],
   "cell_type": "code",
   "source": [
    "mfs = BlockMultiFieldStyle(2,(2,1))  # Special blocking for efficient static condensation\n",
    "X = MultiFieldFESpace([V, Q, N]; style=mfs)"
   ],
   "metadata": {},
   "execution_count": null
  },
  {
   "cell_type": "markdown",
   "source": [
    "## Weak Form and integration"
   ],
   "metadata": {}
  },
  {
   "outputs": [],
   "cell_type": "code",
   "source": [
    "degree = 2*(order+1)  # Integration degree\n",
    "dΩp = Measure(Ωp,degree)  # Volume measure, on the patch triangulation\n",
    "dΓp = Measure(Γp,degree)  # Surface measure, on the patch boundary triangulation\n",
    "\n",
    "τ = 1.0 # HDG stabilization parameter\n",
    "\n",
    "n = get_normal_vector(Γp)  # Face normal vector\n",
    "Πn(u) = u⋅n  # Normal component\n",
    "Π(u) = change_domain(u,Γp,DomainStyle(u))  # Project to skeleton\n",
    "\n",
    "a((uh,qh,sh),(vh,wh,lh)) = ∫( qh⋅wh - uh*(∇⋅wh) - qh⋅∇(vh) )dΩp + ∫(sh*Πn(wh))dΓp +\n",
    "                           ∫((Πn(qh) + τ*(Π(uh) - sh))*(Π(vh) + lh))dΓp\n",
    "l((vh,wh,lh)) = ∫( f*vh )dΩp"
   ],
   "metadata": {},
   "execution_count": null
  },
  {
   "cell_type": "markdown",
   "source": [
    "## Static Condensation and Solution\n",
    "\n",
    "With all these ingredients, we can now build our statically-condensed operator ans\n",
    "solve the problem. Note that we are solving a scatically-condensed system. We can\n",
    "retrieve the internal `AffineFEOperator` from `op.sc_op`."
   ],
   "metadata": {}
  },
  {
   "outputs": [],
   "cell_type": "code",
   "source": [
    "op = MultiField.StaticCondensationOperator(ptopo,X,a,l)\n",
    "uh, qh, sh = solve(op)\n",
    "\n",
    "dΩ = Measure(Ω,degree)\n",
    "eh = uh - u\n",
    "l2_uh = sqrt(sum(∫(eh⋅eh)*dΩ))\n",
    "\n",
    "mkpath(\"output_path\")\n",
    "writevtk(Ω,\"output_path/results\",cellfields=[\"uh\"=>uh,\"qh\"=>qh,\"eh\"=>eh])"
   ],
   "metadata": {},
   "execution_count": null
  },
  {
   "cell_type": "markdown",
   "source": [
    "## Going Further\n",
    "\n",
    "By modifying the stabilisation term, HDG can also work on polytopal meshes. An driver\n",
    "solving the same problem on a polytopal mesh is available [in the Gridap repository](https://github.com/gridap/Gridap.jl/blob/75efc9a7a7e286c27e7ca3ddef5468e591845484/test/GridapTests/HDGPolytopalTests.jl).\n",
    "A tutorial for HHO on polytopal meshes is also available."
   ],
   "metadata": {}
  },
  {
   "cell_type": "markdown",
   "source": [
    "---\n",
    "\n",
    "*This notebook was generated using [Literate.jl](https://github.com/fredrikekre/Literate.jl).*"
   ],
   "metadata": {}
  }
 ],
 "nbformat_minor": 3,
 "metadata": {
  "language_info": {
   "file_extension": ".jl",
   "mimetype": "application/julia",
   "name": "julia",
   "version": "1.10.10"
  },
  "kernelspec": {
   "name": "julia-1.10",
   "display_name": "Julia 1.10.10",
   "language": "julia"
  }
 },
 "nbformat": 4
}
