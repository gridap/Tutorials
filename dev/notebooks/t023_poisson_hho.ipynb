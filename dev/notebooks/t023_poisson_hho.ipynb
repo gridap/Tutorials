{
 "cells": [
  {
   "cell_type": "markdown",
   "source": [
    "# Tutorial 23: Poisson with HHO on polytopal meshes"
   ],
   "metadata": {}
  },
  {
   "cell_type": "markdown",
   "source": [
    "In this tutorial, we will learn how to implement a mixed-order Hybrid High-Order (HHO) method\n",
    "for solving the Poisson equation. HHO methods are a class of modern hybridizable finite element methods\n",
    "that provide optimal convergence rates while enabling static condensation for efficient solution.\n",
    "\n",
    "HHO is a mathematically complex method. This tutorial will **NOT** cover the method nor\n",
    "its mathematical foundations. You should be familiar with both before going into\n",
    "the tutorial itself.\n",
    "We also recommend going through the HDG tutorial first, which shares many of the\n",
    "same concepts but is simpler to understand.\n",
    "\n",
    "## Problem statement\n",
    "\n",
    "We consider the Poisson equation with Dirichlet boundary conditions:\n",
    "\n",
    "$$\n",
    "\\begin{aligned}\n",
    "-\\Delta u &= f \\quad \\text{in } \\Omega \\\\\n",
    "u &= g \\quad \\text{on } \\partial\\Omega\n",
    "\\end{aligned}\n",
    "$$\n",
    "\n",
    "where $\\Omega$ is a bounded domain in $\\mathbb{R}^2$, f is a source term, and $g$ is the prescribed boundary value.\n",
    "\n",
    "## HHO discretization\n",
    "\n",
    "The HHO method introduces two types of unknowns:\n",
    "1. Cell unknowns defined in the volume of each mesh cell\n",
    "2. Face unknowns defined on the mesh facets\n",
    "\n",
    "This hybrid structure allows for efficient static condensation by eliminating the cell unknowns\n",
    "algebraically at the element level.\n",
    "\n",
    "We start by loading the required packages"
   ],
   "metadata": {}
  },
  {
   "outputs": [],
   "cell_type": "code",
   "source": [
    "using Gridap\n",
    "using Gridap.Geometry, Gridap.FESpaces, Gridap.MultiField\n",
    "using Gridap.CellData, Gridap.Fields, Gridap.Helpers\n",
    "using Gridap.ReferenceFEs\n",
    "using Gridap.Arrays"
   ],
   "metadata": {},
   "execution_count": null
  },
  {
   "cell_type": "markdown",
   "source": [
    "## Geometry\n",
    "\n",
    "We generate a 2-dimensional simplicial mesh from a Cartesian grid, then taking its Voronoi\n",
    "dual to create a polytopal mesh."
   ],
   "metadata": {}
  },
  {
   "outputs": [],
   "cell_type": "code",
   "source": [
    "u(x) = sin(2*π*x[1])*sin(2*π*x[2])\n",
    "f(x) = -Δ(u)(x)\n",
    "\n",
    "n = 10\n",
    "base_model = simplexify(CartesianDiscreteModel((0,1,0,1),(n,n)))\n",
    "model = Geometry.voronoi(base_model)"
   ],
   "metadata": {},
   "execution_count": null
  },
  {
   "cell_type": "markdown",
   "source": [
    "From this mesh, we will require two triangulations where to define our HDG spaces:\n",
    "\n",
    "1. A cell triangulation $\\Omega$, for the volume variables\n",
    "2. A face triangulation $\\Gamma$, for the skeleton variables\n",
    "\n",
    "These are given by"
   ],
   "metadata": {}
  },
  {
   "outputs": [],
   "cell_type": "code",
   "source": [
    "D = num_cell_dims(model)\n",
    "Ω = Triangulation(ReferenceFE{D}, model)\n",
    "Γ = Triangulation(ReferenceFE{D-1}, model)"
   ],
   "metadata": {},
   "execution_count": null
  },
  {
   "cell_type": "markdown",
   "source": [
    "## FESpaces\n",
    "\n",
    "HHO uses two different finite element spaces:\n",
    "1. A scalar space for the bulk variable uT (V)\n",
    "2. A scalar space for the skeleton variable uF (M)\n",
    "\n",
    "We then define discontinuous finite element spaces of the approppriate order, locally $$\\mathbb{P}^k$$.\n",
    "Because we are using a mixed-order scheme, the bulk space has a higher polynomial order\n",
    "than the skeleton space.\n",
    "Note that only the skeletal space has Dirichlet boundary conditions."
   ],
   "metadata": {}
  },
  {
   "outputs": [],
   "cell_type": "code",
   "source": [
    "order = 1\n",
    "V = FESpaces.PolytopalFESpace(Ω, Float64, order+1; space=:P) # Bulk space\n",
    "M = FESpaces.PolytopalFESpace(Γ, Float64, order; space=:P, dirichlet_tags=\"boundary\") # Skeleton space\n",
    "N = TrialFESpace(M,u)"
   ],
   "metadata": {},
   "execution_count": null
  },
  {
   "cell_type": "markdown",
   "source": [
    "## MultiField Structure\n",
    "\n",
    "Since we are doing static condensation, we need assemble by blocks. In particular, the\n",
    "`StaticCondensationOperator` expects the variables to be groupped in two blocks:\n",
    "  - The eliminated variables (in this case, the volume variables q and u)\n",
    "  - The retained variables (in this case, the interface variable m)\n",
    "We will assemble by blocks using the `BlockMultiFieldStyle` API."
   ],
   "metadata": {}
  },
  {
   "outputs": [],
   "cell_type": "code",
   "source": [
    "mfs = MultiField.BlockMultiFieldStyle(2,(1,1))\n",
    "X   = MultiFieldFESpace([V, N];style=mfs)\n",
    "Y   = MultiFieldFESpace([V, M];style=mfs)"
   ],
   "metadata": {},
   "execution_count": null
  },
  {
   "cell_type": "markdown",
   "source": [
    "## PatchTopology and PatchTriangulation\n",
    "\n",
    "A key aspect of hybrid methods is the use of static condensation, which is the\n",
    "elimination of cell unknowns to reduce the size of the global system.\n",
    "To achieve this, we need to be able to assemble and solve local problems on each cell, that\n",
    "involve\n",
    "  - contributions from the cell itself\n",
    "  - contributions from the cell faces\n",
    "To this end, Gridap provides a general framework for patch-assembly and solves. The idea\n",
    "is to define a patch decomposition of the mesh (in this case, a patch is a cell and its sourrounding\n",
    "faces). We can then gather contributions for each patch, solve the local problems, and\n",
    "assemble the results into the global system.\n",
    "\n",
    "The following code creates the required `PatchTopology` for the problem at hand. We then\n",
    "take d-dimensional slices of it by the means of `PatchTriangulation` and `PatchBoundaryTriangulation`.\n",
    "These are the `Triangulation`s we will integrate our weakform over."
   ],
   "metadata": {}
  },
  {
   "outputs": [],
   "cell_type": "code",
   "source": [
    "ptopo = Geometry.PatchTopology(model)\n",
    "Ωp = Geometry.PatchTriangulation(model,ptopo)\n",
    "Γp = Geometry.PatchBoundaryTriangulation(model,ptopo)\n",
    "\n",
    "qdegree = 2*(order+1)\n",
    "dΩp = Measure(Ωp,qdegree)\n",
    "dΓp = Measure(Γp,qdegree)"
   ],
   "metadata": {},
   "execution_count": null
  },
  {
   "cell_type": "markdown",
   "source": [
    "## Local operators\n",
    "\n",
    "A key feature of HHO is the use of local solves to define local projections of our bulk and\n",
    "skeleton variables. Just like for static condensation, we will use patch assembly to\n",
    "gather the contributions from each patch and solve the local problems.\n",
    "The result is then an element of the space we are projecting to, given as a\n",
    "linear combination of the basis of that space. This whole abstraction is taken\n",
    "care of by the `LocalOperator` object.\n",
    "\n",
    "For the mixed-order Poisson problem, we require two local projections.\n",
    "\n",
    "### L2 projection operator\n",
    "\n",
    "First, an L2 local projection operator onto the mesh faces. This is the simplest\n",
    "operator we can define, such that given $u$ in some undefined space, we find $Pu \\in V$ st\n",
    "\n",
    "$$(Pu,q) = (u,q) \\forall q \\in V$$\n",
    "\n",
    "This signature for the `LocalOperator` assumes that the rhs and lhs for each local problem\n",
    "are given by a single cell contribution (no patch assembly required).\n",
    "Note also the use of `FESpaceWithoutBCs`, which strips the boundary conditions from the\n",
    "space `V`. This is because we do not want to take into account boundary conditions\n",
    "when projecting onto the space.\n",
    "The local solve map is given by `LocalSolveMap`, which by default uses Julia's LU\n",
    "factorization to solve the local problem exactly."
   ],
   "metadata": {}
  },
  {
   "outputs": [],
   "cell_type": "code",
   "source": [
    "function projection_operator(V, Ω, dΩ)\n",
    "  Π(u,Ω) = change_domain(u,Ω,DomainStyle(u))\n",
    "  mass(u,v) = ∫(u⋅Π(v,Ω))dΩ\n",
    "  V0 = FESpaces.FESpaceWithoutBCs(V)\n",
    "  P = LocalOperator(\n",
    "    LocalSolveMap(), V0, mass, mass; trian_out = Ω\n",
    "  )\n",
    "  return P\n",
    "end"
   ],
   "metadata": {},
   "execution_count": null
  },
  {
   "cell_type": "markdown",
   "source": [
    "### Reconstruction operator\n",
    "\n",
    "Finally, we build the so-called reconstruction operator. This operator is highly tied to the\n",
    "ellipic projector, and projects our bulk-skeleton variable pair onto a bulk space of higher order.\n",
    "\n",
    "It's definition can be found in HHO literature, and requires solving a constrained\n",
    "local problem on each cell and its faces. We therefore use patch assembly, and impose\n",
    "our constraint using an additional space `Λ` as a local Lagrange multiplier.\n",
    "Naturally, we want to eliminate the multiplier and return a solution in the reconstructed\n",
    "space `L`. This is taken care of by the `LocalPenaltySolveMap`, and the kwarg `space_out = L`\n",
    "which overrides the default behavior of returning a solution in the test space `Y`."
   ],
   "metadata": {}
  },
  {
   "outputs": [],
   "cell_type": "code",
   "source": [
    "function reconstruction_operator(ptopo,order,X,Ω,Γp,dΩp,dΓp)\n",
    "  L = FESpaces.PolytopalFESpace(Ω, Float64, order+1; space=:P)\n",
    "  Λ = FESpaces.PolytopalFESpace(Ω, Float64, 0; space=:P)\n",
    "\n",
    "  n = get_normal_vector(Γp)\n",
    "  Πn(v) = ∇(v)⋅n\n",
    "  Π(u,Ω) = change_domain(u,Ω,DomainStyle(u))\n",
    "  lhs((u,λ),(v,μ))   = ∫( (∇(u)⋅∇(v)) + (μ*u) + (λ*v) )dΩp\n",
    "  rhs((uT,uF),(v,μ)) =  ∫( (∇(uT)⋅∇(v)) + (uT*μ) )dΩp + ∫( (uF - Π(uT,Γp))*(Πn(v)) )dΓp\n",
    "\n",
    "  Y = FESpaces.FESpaceWithoutBCs(X)\n",
    "  W = MultiFieldFESpace([L,Λ];style=BlockMultiFieldStyle())\n",
    "  R = LocalOperator(\n",
    "    LocalPenaltySolveMap(), ptopo, W, Y, lhs, rhs; space_out = L\n",
    "  )\n",
    "  return R\n",
    "end\n",
    "\n",
    "PΓ = projection_operator(M, Γp, dΓp)\n",
    "R  = reconstruction_operator(ptopo,order,Y,Ωp,Γp,dΩp,dΓp)"
   ],
   "metadata": {},
   "execution_count": null
  },
  {
   "cell_type": "markdown",
   "source": [
    "## Weakform and assembly\n",
    "\n",
    "We can now define:\n",
    "  - The consistency term `a`\n",
    "  - The stabilization term `s`\n",
    "  - The rhs term `l`"
   ],
   "metadata": {}
  },
  {
   "outputs": [],
   "cell_type": "code",
   "source": [
    "hTinv = CellField(1 ./ collect(get_array(∫(1)dΩp)), Ωp)\n",
    "\n",
    "function a(u,v)\n",
    "  Ru_Ω, Ru_Γ = R(u)\n",
    "  Rv_Ω, Rv_Γ = R(v)\n",
    "  return ∫(∇(Ru_Ω)⋅∇(Rv_Ω) + ∇(Ru_Γ)⋅∇(Rv_Ω) + ∇(Ru_Ω)⋅∇(Rv_Γ) + ∇(Ru_Γ)⋅∇(Rv_Γ))dΩp\n",
    "end\n",
    "\n",
    "function s(u,v)\n",
    "  function SΓ(u)\n",
    "    u_Ω, u_Γ = u\n",
    "    return PΓ(u_Ω) - u_Γ\n",
    "  end\n",
    "  return ∫(hTinv * (SΓ(u)⋅SΓ(v)))dΓp\n",
    "end\n",
    "\n",
    "l((vΩ,vΓ)) = ∫(f⋅vΩ)dΩp"
   ],
   "metadata": {},
   "execution_count": null
  },
  {
   "cell_type": "markdown",
   "source": [
    "### Patch-FESpaces\n",
    "\n",
    "An additional difficulty in HHO methods is that our reconstructed functions `R(u)` are\n",
    "hard to assemble. They are defined on the cells, but depend on skeleton degrees of freedom.\n",
    "We therefore cannot assemble them using the original FESpace `N`. Instead, we will create \\\n",
    "view of the original space that is defined on the patches, and can be used to assemble\n",
    "the local contributions depending on `R`. It can be done by the means of `PatchFESpace`:"
   ],
   "metadata": {}
  },
  {
   "outputs": [],
   "cell_type": "code",
   "source": [
    "Xp  = FESpaces.PatchFESpace(X,ptopo)"
   ],
   "metadata": {},
   "execution_count": null
  },
  {
   "cell_type": "markdown",
   "source": [
    "### Assembly without static condensation\n",
    "\n",
    "We can now proceed to evaluate and assemble all our contributions. Note that some of\n",
    "the contributions depend on the reconstructed variables, e.g `a(u,v)`, and need to\n",
    "be assembled using the `PatchFESpace` `Xp`, while others can be assembled using the original\n",
    "FESpace `X` (e.g. `s(u,v)` and `l(v)`).\n",
    "Assembly is therefore somewhat more complex than in the standard case. We need to\n",
    "collect the contributions for every (test,trial) pair, and then merge them into a single\n",
    "data structure that can be passed to the assembler.\n",
    "In the case of mixed-order HHO, we only have two combinations, (`Xp`, `Xp`) and (`X`, `X`),\n",
    "but the cross-terms appear also in the case of the original HHO formulation."
   ],
   "metadata": {}
  },
  {
   "outputs": [],
   "cell_type": "code",
   "source": [
    "global_assem = SparseMatrixAssembler(X,Y)\n",
    "\n",
    "function weakform()\n",
    "  u, v = get_trial_fe_basis(X), get_fe_basis(Y)\n",
    "  data = FESpaces.collect_and_merge_cell_matrix_and_vector(\n",
    "    (Xp, Xp, a(u,v), DomainContribution(), zero(Xp)),\n",
    "    (X, Y, s(u,v), l(v), zero(X))\n",
    "  )\n",
    "  assemble_matrix_and_vector(global_assem,data)\n",
    "end\n",
    "\n",
    "A, b = weakform()\n",
    "x = A \\ b\n",
    "\n",
    "ui, ub = FEFunction(X,x)\n",
    "eu  = ui - u\n",
    "l2u = sqrt(sum( ∫(eu * eu)dΩp))\n",
    "h1u = l2u + sqrt(sum( ∫(∇(eu) ⋅ ∇(eu))dΩp))"
   ],
   "metadata": {},
   "execution_count": null
  },
  {
   "cell_type": "markdown",
   "source": [
    "### Assembly with static condensation"
   ],
   "metadata": {}
  },
  {
   "outputs": [],
   "cell_type": "code",
   "source": [
    "patch_assem = FESpaces.PatchAssembler(ptopo,X,Y)\n",
    "\n",
    "function patch_weakform()\n",
    "  u, v = get_trial_fe_basis(X), get_fe_basis(Y)\n",
    "  data = FESpaces.collect_and_merge_cell_matrix_and_vector(patch_assem,\n",
    "    (Xp, Xp, a(u,v), DomainContribution(), zero(Xp)),\n",
    "    (X, Y, s(u,v), l(v), zero(X))\n",
    "  )\n",
    "  return assemble_matrix_and_vector(patch_assem,data)\n",
    "end\n",
    "\n",
    "op = MultiField.StaticCondensationOperator(X,patch_assem,patch_weakform())\n",
    "ui, ub = solve(op)\n",
    "\n",
    "eu  = ui - u\n",
    "l2u = sqrt(sum( ∫(eu * eu)dΩp))\n",
    "h1u = l2u + sqrt(sum( ∫(∇(eu) ⋅ ∇(eu))dΩp))"
   ],
   "metadata": {},
   "execution_count": null
  },
  {
   "cell_type": "markdown",
   "source": [
    "## Going further\n",
    "\n",
    "This tutorial has introduced the basic concepts of HHO methods using the simplest their\n",
    "simplest form, e.g. mixed-order HHO for the Poisson equation.\n",
    "More advanced drivers can be found with Gridap's tests. In particular:\n",
    "\n",
    "  - [Poisson with original HHO formulation](https://github.com/gridap/Gridap.jl/blob/75efc9a7a7e286c27e7ca3ddef5468e591845484/test/GridapTests/HHOPolytopalTests.jl)\n",
    "  - [Incompressible Stokes](https://github.com/gridap/Gridap.jl/blob/75efc9a7a7e286c27e7ca3ddef5468e591845484/test/GridapTests/HHOMixedStokesPolytopal.jl)\n",
    "  - [Linear Elasticity](https://github.com/gridap/Gridap.jl/blob/75efc9a7a7e286c27e7ca3ddef5468e591845484/test/GridapTests/HHOMixedElasticity.jl)"
   ],
   "metadata": {}
  },
  {
   "cell_type": "markdown",
   "source": [
    "---\n",
    "\n",
    "*This notebook was generated using [Literate.jl](https://github.com/fredrikekre/Literate.jl).*"
   ],
   "metadata": {}
  }
 ],
 "nbformat_minor": 3,
 "metadata": {
  "language_info": {
   "file_extension": ".jl",
   "mimetype": "application/julia",
   "name": "julia",
   "version": "1.10.10"
  },
  "kernelspec": {
   "name": "julia-1.10",
   "display_name": "Julia 1.10.10",
   "language": "julia"
  }
 },
 "nbformat": 4
}
