{
 "cells": [
  {
   "cell_type": "markdown",
   "source": [
    "# Tutorial 24: Block assembly and solvers: Incompressible Stokes example"
   ],
   "metadata": {}
  },
  {
   "cell_type": "markdown",
   "source": [
    "This example solves the incompressible Stokes equations, given by\n",
    "\n",
    "$$\n",
    "\\left\\lbrace\n",
    "\\begin{aligned}\n",
    "-\\Delta u - \\nabla p &= f \\quad \\text{in} \\quad \\Omega, \\\\\n",
    "\\nabla \\cdot u &= 0 \\quad \\text{in} \\quad \\Omega, \\\\\n",
    "u &= \\hat{x} \\quad \\text{in} \\quad \\Gamma_\\text{top} \\subset \\partial \\Omega, \\\\\n",
    "u &= 0 \\quad \\text{in} \\quad \\partial \\Omega \\backslash \\Gamma_\\text{top} \\\\\n",
    "\\end{aligned}\n",
    "\\right.\n",
    "$$\n",
    "\n",
    "where $\\Omega = [0,1]^d$.\n",
    "\n",
    "We use a mixed finite-element scheme, with $Q_k \\times P_{k-1}^{-}$ elements for the velocity-pressure pair.\n",
    "\n",
    "To solve the linear system, we use a FGMRES solver preconditioned by a block-diagonal or\n",
    "block-triangular Shur-complement-based preconditioner.\n",
    "\n",
    "\n",
    "## Block structure\n",
    "\n",
    "The discretized system has a natural 2×2 block structure:\n",
    "\n",
    "$$\n",
    "\\begin{bmatrix}\n",
    "A & B^T \\\\\n",
    "B & 0\n",
    "\\end{bmatrix}\n",
    "\\begin{bmatrix}\n",
    "u \\\\\n",
    "p\n",
    "\\end{bmatrix} =\n",
    "\\begin{bmatrix}\n",
    "f \\\\\n",
    "0\n",
    "\\end{bmatrix}\n",
    "$$\n",
    "\n",
    "where:\n",
    "- $A$: Vector Laplacian (velocity block)\n",
    "- $B$: Divergence operator\n",
    "- $B^T$: Gradient operator\n",
    "\n",
    "## Solution strategy\n",
    "\n",
    "We use a FGMRES solver preconditioned by an upper block-triangular preconditioner:\n",
    "\n",
    "$$\n",
    "P = \\begin{bmatrix}\n",
    "A & B^T \\\\\n",
    "0 & -\\hat{S}\n",
    "\\end{bmatrix}\n",
    "$$\n",
    "\n",
    "where $\\hat{S}$ is an approximation of the Schur complement $S = BA^{-1}B^T$, which we\n",
    "will approximate using a pressure mass matrix."
   ],
   "metadata": {}
  },
  {
   "outputs": [],
   "cell_type": "code",
   "source": [
    "using LinearAlgebra\n",
    "using BlockArrays\n",
    "\n",
    "using Gridap\n",
    "using Gridap.MultiField\n",
    "\n",
    "using GridapSolvers\n",
    "using GridapSolvers.LinearSolvers\n",
    "using GridapSolvers.BlockSolvers: LinearSystemBlock, BiformBlock\n",
    "using GridapSolvers.BlockSolvers: BlockDiagonalSolver, BlockTriangularSolver"
   ],
   "metadata": {},
   "execution_count": null
  },
  {
   "cell_type": "markdown",
   "source": [
    "## Geometry and FESpaces\n",
    "\n",
    "See the basic Stokes tutorial for a detailed explanation."
   ],
   "metadata": {}
  },
  {
   "outputs": [],
   "cell_type": "code",
   "source": [
    "nc = (8,8)\n",
    "Dc = length(nc)\n",
    "domain = (Dc == 2) ? (0,1,0,1) : (0,1,0,1,0,1)\n",
    "\n",
    "model = CartesianDiscreteModel(domain,nc)\n",
    "labels = get_face_labeling(model)\n",
    "if Dc == 2\n",
    "  add_tag_from_tags!(labels,\"top\",[6])\n",
    "  add_tag_from_tags!(labels,\"walls\",[1,2,3,4,5,7,8])\n",
    "else\n",
    "  add_tag_from_tags!(labels,\"top\",[22])\n",
    "  add_tag_from_tags!(labels,\"walls\",[1,2,3,4,5,6,7,8,9,10,11,12,13,14,15,16,17,18,19,20,21,23,24,25,26])\n",
    "end\n",
    "\n",
    "order = 2\n",
    "qdegree = 2*(order+1)\n",
    "reffe_u = ReferenceFE(lagrangian,VectorValue{Dc,Float64},order)\n",
    "reffe_p = ReferenceFE(lagrangian,Float64,order-1;space=:P)\n",
    "\n",
    "u_walls = (Dc==2) ? VectorValue(0.0,0.0) : VectorValue(0.0,0.0,0.0)\n",
    "u_top = (Dc==2) ? VectorValue(1.0,0.0) : VectorValue(1.0,0.0,0.0)\n",
    "\n",
    "V = TestFESpace(model,reffe_u,dirichlet_tags=[\"walls\",\"top\"]);\n",
    "U = TrialFESpace(V,[u_walls,u_top]);\n",
    "Q = TestFESpace(model,reffe_p;conformity=:L2,constraint=:zeromean)"
   ],
   "metadata": {},
   "execution_count": null
  },
  {
   "cell_type": "markdown",
   "source": [
    "## Block multi-field spaces\n",
    "\n",
    "Our first difference will come from how we define our multi-field spaces:\n",
    "Because we want to be able to use the block-structure of the linear system,\n",
    "we have to assemble our problem by blocks. The block structure of the resulting\n",
    "linear system is determined by the `BlockMultiFieldStyle` we use to define the\n",
    "multi-field spaces.\n",
    "\n",
    "A `BlockMultiFieldStyle` takes three arguments:\n",
    "  - `N`: The number of blocks we want\n",
    "  - `S`: An N-tuple with the number of fields in each block\n",
    "  - `P`: A permutation of the fields in the multi-field space, which determines\n",
    "         how fields are grouped into blocks.\n",
    "\n",
    "By default, we create as many blocks as there are fields in the multi-field space,\n",
    "and each block contains a single field with no permutation."
   ],
   "metadata": {}
  },
  {
   "outputs": [],
   "cell_type": "code",
   "source": [
    "mfs = BlockMultiFieldStyle(2,(1,1),(1,2))\n",
    "X = MultiFieldFESpace([U,Q];style=mfs)\n",
    "Y = MultiFieldFESpace([V,Q];style=mfs)"
   ],
   "metadata": {},
   "execution_count": null
  },
  {
   "cell_type": "markdown",
   "source": [
    "## Weak form and integration"
   ],
   "metadata": {}
  },
  {
   "outputs": [],
   "cell_type": "code",
   "source": [
    "Ω = Triangulation(model)\n",
    "dΩ = Measure(Ω,qdegree)\n",
    "\n",
    "α = 1.e1\n",
    "f = (Dc==2) ? VectorValue(1.0,1.0) : VectorValue(1.0,1.0,1.0)\n",
    "a((u,p),(v,q)) = ∫(∇(v)⊙∇(u))dΩ - ∫(divergence(v)*p)dΩ - ∫(divergence(u)*q)dΩ\n",
    "l((v,q)) = ∫(v⋅f)dΩ\n",
    "\n",
    "op = AffineFEOperator(a,l,X,Y)"
   ],
   "metadata": {},
   "execution_count": null
  },
  {
   "cell_type": "markdown",
   "source": [
    "### Block structure of the linear system\n",
    "\n",
    "As per usual, we can extract the matrix and vector of the linear system from the operator.\n",
    "Notice now that unlike in previous examples, the matrix is a `BlockMatrix` type, from\n",
    "the `BlockArrays.jl` package, which allows us to work with block-structured matrices."
   ],
   "metadata": {}
  },
  {
   "outputs": [],
   "cell_type": "code",
   "source": [
    "A = get_matrix(op)\n",
    "b = get_vector(op)"
   ],
   "metadata": {},
   "execution_count": null
  },
  {
   "cell_type": "markdown",
   "source": [
    "## Block solvers\n",
    "\n",
    "We will now setup two types of block preconditioners for the Stokes system. In both cases,\n",
    "we will use the preconditioners to solve the linear system using a Flexible GMRES solver.\n",
    "The idea behind these preconditioners is the well-known property that the Schur complement\n",
    "of the velocity block can be well approximated by a scaled pressure mass matrix. Moreover,\n",
    "in our pressure discretization is discontinuous which means that the pressure mass matrix\n",
    "is block-diagonal and easily invertible.\n",
    "In this example, we will use an exact LU solver for the velocity block and a CG solver\n",
    "with Jacobi preconditioner for the pressure block."
   ],
   "metadata": {}
  },
  {
   "cell_type": "markdown",
   "source": [
    "### Block diagonal preconditioner\n",
    "\n",
    "The simplest block preconditioner is the block-diagonal preconditioner.\n",
    "The only ingredients required are\n",
    " - the sub-solvers for each diagonal block and\n",
    " - the diagonal blocks we want to use.\n",
    "\n",
    "The sub-solvers are defined as follows:"
   ],
   "metadata": {}
  },
  {
   "outputs": [],
   "cell_type": "code",
   "source": [
    "u_solver = LUSolver()\n",
    "p_solver = CGSolver(JacobiLinearSolver();maxiter=20,atol=1e-14,rtol=1.e-6)"
   ],
   "metadata": {},
   "execution_count": null
  },
  {
   "cell_type": "markdown",
   "source": [
    "The block structure is defined using the block API. We provide different types of blocks,\n",
    "that might have different uses depending on the problem at hand. We will here use two of\n",
    "the most common block types:\n",
    " - The `LinearSystemBlock` defines a block that is taken directly (and aliased) form\n",
    "   the linear system matrix `A`. We will use this for the velocity block.\n",
    " - For the pressure block, however, the pressure mass matrix is not directly available\n",
    "   in the system matrix. Instead, we will have to integrate it using the Gridap API, as usual.\n",
    "   These abstract concept is implemented in the `BiformBlock` type, which allows the\n",
    "   user to define a block from a bilinear form.\n",
    "All in all, we define the block structure as follows:"
   ],
   "metadata": {}
  },
  {
   "outputs": [],
   "cell_type": "code",
   "source": [
    "u_block = LinearSystemBlock()\n",
    "p_block = BiformBlock((p,q) -> ∫(-(1.0/α)*p*q)dΩ,Q,Q)"
   ],
   "metadata": {},
   "execution_count": null
  },
  {
   "cell_type": "markdown",
   "source": [
    "With these ingredients, we can now define the block diagonal preconditioner as follows:"
   ],
   "metadata": {}
  },
  {
   "outputs": [],
   "cell_type": "code",
   "source": [
    "PD = BlockDiagonalSolver([u_block,p_block],[u_solver,p_solver])\n",
    "solver_PD = FGMRESSolver(20,PD;atol=1e-10,rtol=1.e-12,verbose=true)\n",
    "\n",
    "uh, ph = solve(solver_PD, op)"
   ],
   "metadata": {},
   "execution_count": null
  },
  {
   "cell_type": "markdown",
   "source": [
    "### Block upper-triangular preconditioner\n",
    "\n",
    "A slighly more elaborate preconditioner (but also more robust) is the\n",
    "block upper-triangular preconditioner. The ingredients are similar:\n",
    " - the sub-solvers for each diagonal block\n",
    " - the blocks that define the block structure, now including the off-diagonal blocks\n",
    " - the coefficients for the off-diagonal blocks, where zero coefficients\n",
    "   indicate that the block is not used.\n",
    "\n",
    "We will also represent the off-diagonal blocks using the `LinearSystemBlock` type."
   ],
   "metadata": {}
  },
  {
   "outputs": [],
   "cell_type": "code",
   "source": [
    "sblocks = [     u_block        LinearSystemBlock();\n",
    "           LinearSystemBlock()      p_block       ]\n",
    "coeffs = [1.0 1.0;\n",
    "          0.0 1.0]\n",
    "PU = BlockTriangularSolver(sblocks,[u_solver,p_solver],coeffs,:upper)\n",
    "solver_PU = FGMRESSolver(20,PU;atol=1e-10,rtol=1.e-12,verbose=true)\n",
    "\n",
    "uh, ph = solve(solver_PU, op)"
   ],
   "metadata": {},
   "execution_count": null
  },
  {
   "cell_type": "markdown",
   "source": [
    "As you can see, the block upper-triangular preconditioner is quite better\n",
    "than the block diagonal one."
   ],
   "metadata": {}
  },
  {
   "cell_type": "markdown",
   "source": [
    "## Going further\n",
    "\n",
    "If you want to see more examples of how to use the block solvers,\n",
    "you can check the documentation in [GridapSolvers.jl](https://gridap.github.io/GridapSolvers.jl/stable/),\n",
    "as well as it's `test/Applications` folder.\n",
    "\n",
    "There you will find more complicated examples, such as using a GMG solver to\n",
    "solve the velocity block."
   ],
   "metadata": {}
  },
  {
   "cell_type": "markdown",
   "source": [
    "---\n",
    "\n",
    "*This notebook was generated using [Literate.jl](https://github.com/fredrikekre/Literate.jl).*"
   ],
   "metadata": {}
  }
 ],
 "nbformat_minor": 3,
 "metadata": {
  "language_info": {
   "file_extension": ".jl",
   "mimetype": "application/julia",
   "name": "julia",
   "version": "1.10.10"
  },
  "kernelspec": {
   "name": "julia-1.10",
   "display_name": "Julia 1.10.10",
   "language": "julia"
  }
 },
 "nbformat": 4
}
