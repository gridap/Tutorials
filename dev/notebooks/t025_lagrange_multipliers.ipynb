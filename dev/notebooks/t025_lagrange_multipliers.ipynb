{
 "cells": [
  {
   "cell_type": "markdown",
   "source": [
    "# Tutorial 25: Lagrange multipliers"
   ],
   "metadata": {}
  },
  {
   "cell_type": "markdown",
   "source": [
    "In this tutorial, we will learn\n",
    "\n",
    "   - How to enforce constraints using Lagrange multipliers\n",
    "   - How to work with `ConstantFESpace`\n",
    "\n",
    "## Problem statement\n",
    "\n",
    "In this tutorial, we solve the Poisson equation with pure Neumann boundary conditions.\n",
    "This problem is well-known to be singular since the solution is defined up to a constant,\n",
    "which we have to fix to obtain a unique solution.\n",
    "Here, we will use a Lagrange multiplier to enforce that the mean value of the solution\n",
    "equals a given constant.\n",
    "\n",
    "The problem reads: find $u$ and $λ$ such that\n",
    "\n",
    "$$\n",
    "\\left\\lbrace\n",
    "\\begin{aligned}\n",
    "-\\Delta u = f  \\ &\\text{in} \\ \\Omega,\\\\\n",
    "\\nabla u\\cdot n = g \\ &\\text{on}\\ \\Gamma,\\\\\n",
    "\\int_{\\Omega} u \\ {\\rm d}\\Omega = \\bar{u},\\\\\n",
    "\\end{aligned}\n",
    "\\right.\n",
    "$$\n",
    "\n",
    "where $\\Omega$ is our domain, $\\Gamma$ is its boundary, $n$ is the outward unit normal vector,\n",
    "and $\\bar{u}$ is a given constant that fixes the mean value of the solution.\n",
    "\n",
    "## Numerical scheme\n",
    "\n",
    "The weak form of this problem using Lagrange multipliers reads:\n",
    "find $(u,λ) \\in V \\times \\Lambda$ such that\n",
    "\n",
    "$$\n",
    "\\begin{aligned}\n",
    "\\int_{\\Omega} \\nabla u \\cdot \\nabla v \\ {\\rm d}\\Omega +\n",
    "\\int_{\\Omega} λv \\ {\\rm d}\\Omega +\n",
    "\\int_{\\Omega} uμ \\ {\\rm d}\\Omega =\n",
    "\\int_{\\Omega} fv \\ {\\rm d}\\Omega +\n",
    "\\int_{\\Gamma} v(g\\cdot n) \\ {\\rm d}\\Gamma +\n",
    "\\int_{\\Omega} μ\\bar{u} \\ {\\rm d}\\Omega\n",
    "\\end{aligned}\n",
    "$$\n",
    "\n",
    "for all $(v,μ) \\in V \\times \\Lambda$, where $V = H^1(\\Omega)$ and $\\Lambda = \\mathbb{R}$.\n",
    "\n",
    "## Implementation\n",
    "\n",
    "First, we load the Gridap package and define the exact solution that we will use to\n",
    "manufacture the source term and boundary condition:"
   ],
   "metadata": {}
  },
  {
   "outputs": [],
   "cell_type": "code",
   "source": [
    "using Gridap\n",
    "\n",
    "u_exact(x) = sin(x[1]) * cos(x[2])"
   ],
   "metadata": {},
   "execution_count": null
  },
  {
   "cell_type": "markdown",
   "source": [
    "Now we can create a simple Cartesian mesh of the unit square:"
   ],
   "metadata": {}
  },
  {
   "outputs": [],
   "cell_type": "code",
   "source": [
    "model = CartesianDiscreteModel((0,1,0,1),(8,8))"
   ],
   "metadata": {},
   "execution_count": null
  },
  {
   "cell_type": "markdown",
   "source": [
    "We will use first order Lagrangian finite elements for the primal variable u."
   ],
   "metadata": {}
  },
  {
   "outputs": [],
   "cell_type": "code",
   "source": [
    "order = 1\n",
    "reffe = ReferenceFE(lagrangian, Float64, order)\n",
    "V = FESpace(model, reffe)"
   ],
   "metadata": {},
   "execution_count": null
  },
  {
   "cell_type": "markdown",
   "source": [
    "For the Lagrange multiplier λ, we need a space of constant functions, since λ ∈ ℝ.\n",
    "In Gridap, we can create such a space using `ConstantFESpace`:"
   ],
   "metadata": {}
  },
  {
   "outputs": [],
   "cell_type": "code",
   "source": [
    "Λ = ConstantFESpace(model)"
   ],
   "metadata": {},
   "execution_count": null
  },
  {
   "cell_type": "markdown",
   "source": [
    "Conceptually, a `ConstantFESpace` is a space defined on the whole domain with a\n",
    "single degree of freedom, which is what we need for the Lagrange multiplier λ.\n",
    "We finally bundle both spaces into a multi-field space:"
   ],
   "metadata": {}
  },
  {
   "outputs": [],
   "cell_type": "code",
   "source": [
    "X = MultiFieldFESpace([V, Λ])"
   ],
   "metadata": {},
   "execution_count": null
  },
  {
   "cell_type": "markdown",
   "source": [
    "## Integration\n",
    "\n",
    "We need to create the triangulation and measures for both domain and boundary\n",
    "integration:"
   ],
   "metadata": {}
  },
  {
   "outputs": [],
   "cell_type": "code",
   "source": [
    "Ω = Triangulation(model)\n",
    "Γ = BoundaryTriangulation(model)\n",
    "dΩ = Measure(Ω, 2*order)\n",
    "dΓ = Measure(Γ, 2*order)"
   ],
   "metadata": {},
   "execution_count": null
  },
  {
   "cell_type": "markdown",
   "source": [
    "Next, we manufacture the source term f and Neumann boundary condition g\n",
    "from the exact solution. We also compute the mean value ū that we want\n",
    "to enforce:"
   ],
   "metadata": {}
  },
  {
   "outputs": [],
   "cell_type": "code",
   "source": [
    "f(x) = -Δ(u_exact)(x)\n",
    "g(x) = ∇(u_exact)(x)\n",
    "ū = sum(∫(u_exact)dΩ)\n",
    "nΓ = get_normal_vector(Γ)"
   ],
   "metadata": {},
   "execution_count": null
  },
  {
   "cell_type": "markdown",
   "source": [
    "## Weak Form\n",
    "\n",
    "We can now define the bilinear and linear forms of our problem.\n",
    "Note how the forms take tuples as arguments, representing the\n",
    "multi-field nature of our solution:"
   ],
   "metadata": {}
  },
  {
   "outputs": [],
   "cell_type": "code",
   "source": [
    "a((u,λ),(v,μ)) = ∫(∇(u)⋅∇(v) + λ*v + u*μ)dΩ\n",
    "l((v,μ)) = ∫(f*v + μ*ū)dΩ + ∫(v*(g⋅nΓ))*dΓ"
   ],
   "metadata": {},
   "execution_count": null
  },
  {
   "cell_type": "markdown",
   "source": [
    "## Solution\n",
    "\n",
    "We can now create the FE operator and solve the system:"
   ],
   "metadata": {}
  },
  {
   "outputs": [],
   "cell_type": "code",
   "source": [
    "op = AffineFEOperator(a, l, X, X)\n",
    "uh, λh = solve(op)"
   ],
   "metadata": {},
   "execution_count": null
  },
  {
   "cell_type": "markdown",
   "source": [
    "Note how we get two values from solve: the primal solution uh and\n",
    "the Lagrange multiplier λh. Finally, we compute the L2 error and\n",
    "verify that the mean value constraint is satisfied:"
   ],
   "metadata": {}
  },
  {
   "outputs": [],
   "cell_type": "code",
   "source": [
    "eh = uh - u_exact\n",
    "l2_error = sqrt(sum(∫(eh⋅eh)*dΩ))\n",
    "ūh = sum(∫(uh)*dΩ)"
   ],
   "metadata": {},
   "execution_count": null
  },
  {
   "cell_type": "markdown",
   "source": [
    "The L2 error should be small (of order h²) and ūh should be very close to ū,\n",
    "showing that both the equation and the constraint are well satisfied."
   ],
   "metadata": {}
  },
  {
   "cell_type": "markdown",
   "source": [
    "## Visualization\n",
    "\n",
    "We can visualize the solution and error by writing them to a VTK file:"
   ],
   "metadata": {}
  },
  {
   "outputs": [],
   "cell_type": "code",
   "source": [
    "writevtk(Ω, \"results\", cellfields=[\"uh\"=>uh, \"error\"=>eh])"
   ],
   "metadata": {},
   "execution_count": null
  },
  {
   "cell_type": "markdown",
   "source": [
    "---\n",
    "\n",
    "*This notebook was generated using [Literate.jl](https://github.com/fredrikekre/Literate.jl).*"
   ],
   "metadata": {}
  }
 ],
 "nbformat_minor": 3,
 "metadata": {
  "language_info": {
   "file_extension": ".jl",
   "mimetype": "application/julia",
   "name": "julia",
   "version": "1.10.10"
  },
  "kernelspec": {
   "name": "julia-1.10",
   "display_name": "Julia 1.10.10",
   "language": "julia"
  }
 },
 "nbformat": 4
}
